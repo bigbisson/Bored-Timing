{
 "cells": [
  {
   "cell_type": "code",
   "execution_count": 2,
   "metadata": {},
   "outputs": [
    {
     "output_type": "stream",
     "name": "stdout",
     "text": "You've successfully left the loop.\n"
    }
   ],
   "source": [
    "n = input(\"You're in trap loop, say the word: \")\n",
    "\n",
    "while n != \"chupacabra\":\n",
    "    n = input(\"Wrong! Say again: \")\n",
    "    if n == \"chupacabra\":break\n",
    "print(\"You've successfully left the loop.\")"
   ]
  },
  {
   "cell_type": "code",
   "execution_count": 6,
   "metadata": {},
   "outputs": [
    {
     "output_type": "stream",
     "name": "stdout",
     "text": "S\nY\n \nB\nD\n"
    }
   ],
   "source": [
    "n = input(\"Enter a word: \")\n",
    "userWord = n.upper()\n",
    "vocal = (\"A\", \"I\", \"U\", \"E\", \"O\")\n",
    "\n",
    "for i in userWord:\n",
    "    if i in vocal:\n",
    "        continue\n",
    "    print(i)\n"
   ]
  },
  {
   "cell_type": "code",
   "execution_count": null,
   "metadata": {},
   "outputs": [],
   "source": []
  }
 ],
 "metadata": {
  "language_info": {
   "codemirror_mode": {
    "name": "ipython",
    "version": 3
   },
   "file_extension": ".py",
   "mimetype": "text/x-python",
   "name": "python",
   "nbconvert_exporter": "python",
   "pygments_lexer": "ipython3",
   "version": "3.8.2-final"
  },
  "orig_nbformat": 2,
  "kernelspec": {
   "name": "python38264bit8ef9f516f56245a8ae1ecc18fd1583b7",
   "display_name": "Python 3.8.2 64-bit"
  }
 },
 "nbformat": 4,
 "nbformat_minor": 2
}