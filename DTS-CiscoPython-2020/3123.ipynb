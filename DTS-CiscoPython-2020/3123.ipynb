{
 "cells": [
  {
   "cell_type": "code",
   "execution_count": 1,
   "metadata": {},
   "outputs": [
    {
     "output_type": "stream",
     "name": "stdout",
     "text": "\n+================================+\n| Welcome to my game, muggle!    |\n| Enter an integer number        |\n| and guess what number I've     |\n| picked for you.                |\n| So, what is the secret number? |\n+================================+\n\nHa ha! You're stuck in my loop!\nHa ha! You're stuck in my loop!\nHa ha! You're stuck in my loop!\nHa ha! You're stuck in my loop!\nHa ha! You're stuck in my loop!\nWell done, muggle! You are free now.\n"
    }
   ],
   "source": [
    "secret_number = 777\n",
    "\n",
    "print(\n",
    "\"\"\"\n",
    "+================================+\n",
    "| Welcome to my game, muggle!    |\n",
    "| Enter an integer number        |\n",
    "| and guess what number I've     |\n",
    "| picked for you.                |\n",
    "| So, what is the secret number? |\n",
    "+================================+\n",
    "\"\"\")\n",
    "\n",
    "n = int(input())\n",
    "\n",
    "while n != secret_number:\n",
    "    print(\"Ha ha! You're stuck in my loop!\")\n",
    "    n = int(input(\"Guess again: \"))\n",
    "print(\"Well done, muggle! You are free now.\")"
   ]
  },
  {
   "cell_type": "code",
   "execution_count": null,
   "metadata": {},
   "outputs": [],
   "source": []
  }
 ],
 "metadata": {
  "language_info": {
   "codemirror_mode": {
    "name": "ipython",
    "version": 3
   },
   "file_extension": ".py",
   "mimetype": "text/x-python",
   "name": "python",
   "nbconvert_exporter": "python",
   "pygments_lexer": "ipython3",
   "version": "3.8.2-final"
  },
  "orig_nbformat": 2,
  "kernelspec": {
   "name": "python38264bit8ef9f516f56245a8ae1ecc18fd1583b7",
   "display_name": "Python 3.8.2 64-bit"
  }
 },
 "nbformat": 4,
 "nbformat_minor": 2
}