{
 "cells": [
  {
   "cell_type": "code",
   "execution_count": 1,
   "metadata": {},
   "outputs": [
    {
     "output_type": "stream",
     "name": "stdout",
     "text": "4\n[1, 2, 7, 4]\n"
    }
   ],
   "source": [
    "# 3.1.4.6\n",
    "hatList = [1, 2, 3, 4, 5]  # This is an existing list of numbers hidden in the hat.\n",
    "length = len(hatList)\n",
    "\n",
    "# Step 1: write a line of code that prompts the user\n",
    "# to replace the middle number with an integer number entered by the user.\n",
    "hatList[length // 2] = int(input(\"Input the number: \"))\n",
    "\n",
    "# Step 2: write a line of code here that removes the last element from the list.\n",
    "del hatList[-1]\n",
    "\n",
    "# Step 3: write a line of code here that prints the length of the existing list.\n",
    "print(len(hatList))\n",
    "\n",
    "print(hatList)"
   ]
  },
  {
   "cell_type": "code",
   "execution_count": 19,
   "metadata": {},
   "outputs": [
    {
     "output_type": "stream",
     "name": "stdout",
     "text": "Step 1: []\nStep 2: ['John Lennon', 'Paul McCardtney', 'George Harrisson']\nStep 3: ['John Lennon', 'Paul McCardtney', 'George Harrisson', 'Stu Sutcliffe', 'Pete Best']\nStep 4: ['John Lennon', 'Paul McCardtney', 'George Harrisson']\nStep 5: ['Ringo Starr', 'John Lennon', 'Paul McCardtney', 'George Harrisson']\nThe Fab 4\n"
    }
   ],
   "source": [
    "# 3.1.4.13\n",
    "# step 1\n",
    "beatles = []\n",
    "print(\"Step 1:\", beatles)\n",
    "\n",
    "# step 2\n",
    "beatles.append(\"John Lennon\")\n",
    "beatles.append(\"Paul McCardtney\")\n",
    "beatles.append(\"George Harrisson\")\n",
    "print(\"Step 2:\", beatles)\n",
    "\n",
    "# step 3\n",
    "for i in range(2):\n",
    "    beatles.append(input())\n",
    "print(\"Step 3:\", beatles)\n",
    "\n",
    "# step 4\n",
    "del beatles[-1]\n",
    "del beatles[-1]\n",
    "print(\"Step 4:\", beatles)\n",
    "\n",
    "# step 5\n",
    "beatles.insert(0, \"Ringo Starr\")\n",
    "print(\"Step 5:\", beatles)\n",
    "\n",
    "\n",
    "# testing list legth\n",
    "print(\"The Fab\", len(beatles))"
   ]
  },
  {
   "cell_type": "code",
   "execution_count": null,
   "metadata": {},
   "outputs": [],
   "source": []
  }
 ],
 "metadata": {
  "language_info": {
   "codemirror_mode": {
    "name": "ipython",
    "version": 3
   },
   "file_extension": ".py",
   "mimetype": "text/x-python",
   "name": "python",
   "nbconvert_exporter": "python",
   "pygments_lexer": "ipython3",
   "version": "3.8.2-final"
  },
  "orig_nbformat": 2,
  "kernelspec": {
   "name": "python38264bit8ef9f516f56245a8ae1ecc18fd1583b7",
   "display_name": "Python 3.8.2 64-bit"
  }
 },
 "nbformat": 4,
 "nbformat_minor": 2
}