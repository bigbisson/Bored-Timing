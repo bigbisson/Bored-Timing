{
 "cells": [
  {
   "cell_type": "code",
   "execution_count": 1,
   "metadata": {},
   "outputs": [],
   "source": [
    "# nama file p1.py \n",
    "# Isikan nama anda dan copy semua cell code yang dengan komentar #Graded\n",
    " \n",
    "#netacad email cth: 'abcd@gmail.com'\n",
    "email='bigmasterindra@yahoo.com'\n",
    "#name : Indra Nurwibisono\n",
    "\n",
    "# copy-paste semua #Graded cells YANG SUDAH ANDA KERJAKAN di bawah ini\n",
    "def letter_catalog(items,letter='A'):\n",
    "  pass\n",
    "  # MULAI KODEMU DI SINI\n",
    "  l = []\n",
    "  items = sorted(items)\n",
    "  for n in range(len(items)):\n",
    "    if items[n][0].lower() == letter.lower():\n",
    "      l.append(items[n])\n",
    "  print(l)\n",
    "\n",
    "def counter_item(items):\n",
    "  pass\n",
    "  # MULAI KODEMU DI SINI\n",
    "  l = {}\n",
    "  items = sorted(items)\n",
    "  for n in items:\n",
    "    if n in l:\n",
    "      l[n] += 1\n",
    "    else:\n",
    "      l[n] = 1\n",
    "  return l\n",
    "\n",
    "# dua variable berikut jangan diubah\n",
    "fruits = ['Apple','Avocado','Banana','Blackberries','Blueberries','Cherries','Date Fruit','Grapes','Guava','Jackfruit','Kiwifruit']\n",
    "prices = [6,5,3,10,12,7,14,15,8,7,9]\n",
    "\n",
    "# list buah\n",
    "chart = ['Blueberries','Blueberries','Grapes','Apple','Apple','Apple','Blueberries','Guava','Jackfruit','Blueberries','Jackfruit']\n",
    "\n",
    "# MULAI KODEMU DI SINI\n",
    "fruit_price = dict(zip(fruits, prices))\n",
    "\n",
    "def total_price(dcounter,fprice):\n",
    "  pass\n",
    "  # MULAI KODEMU DI SINI\n",
    "  totalHarga = {}\n",
    "  for x in dcounter:\n",
    "    if x in fprice:\n",
    "      totalHarga[x] = dcounter[x] * fprice[x]\n",
    "  \n",
    "  return sum(totalHarga.values())\n",
    "\n",
    "def discounted_price(total,discount,minprice=100):\n",
    "  pass\n",
    "  # MULAI KODEMU DI SINI\n",
    "  sum = 0\n",
    "  if minprice < 100:\n",
    "    sum = total\n",
    "  else:\n",
    "    sum = total - (total * discount / 100)\n",
    "  \n",
    "  return sum\n",
    "\n",
    "def print_summary(items,fprice):\n",
    "  pass\n",
    "  # MULAI KODEMU DI SINI\n",
    "  count = counter_item(items)\n",
    "  totalHarga = {}\n",
    "  for x in count:\n",
    "    if x in fprice:\n",
    "      totalHarga[x] = count[x] * fprice[x]\n",
    "  totalHargabuah = total_price(count, fprice)\n",
    "\n",
    "  for x in count:\n",
    "    print(count[x], x, ':', totalHarga[x])\n",
    "  print('total :', totalHargabuah)\n",
    "  print('discount price :', discounted_price(totalHargabuah, 10, 100))"
   ]
  },
  {
   "cell_type": "code",
   "execution_count": 2,
   "metadata": {},
   "outputs": [
    {
     "output_type": "stream",
     "name": "stdout",
     "text": "3 Apple : 18\n4 Blueberries : 48\n1 Grapes : 15\n1 Guava : 8\n2 Jackfruit : 14\ntotal : 103\ndiscount price : 92.7\n"
    }
   ],
   "source": [
    "print_summary(chart,fruit_price)"
   ]
  },
  {
   "cell_type": "code",
   "execution_count": null,
   "metadata": {},
   "outputs": [],
   "source": []
  }
 ],
 "metadata": {
  "language_info": {
   "codemirror_mode": {
    "name": "ipython",
    "version": 3
   },
   "file_extension": ".py",
   "mimetype": "text/x-python",
   "name": "python",
   "nbconvert_exporter": "python",
   "pygments_lexer": "ipython3",
   "version": "3.8.2-final"
  },
  "orig_nbformat": 2,
  "kernelspec": {
   "name": "python38264bitec691204695b4533bb3fff1bda262e96",
   "display_name": "Python 3.8.2 64-bit"
  }
 },
 "nbformat": 4,
 "nbformat_minor": 2
}