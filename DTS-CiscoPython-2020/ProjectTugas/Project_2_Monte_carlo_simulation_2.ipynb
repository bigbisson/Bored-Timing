{
  "cells": [
    {
      "cell_type": "markdown",
      "metadata": {
        "id": "lA-LL0O8KyRh",
        "colab_type": "text"
      },
      "source": [
        "\n",
        "\n",
        "---\n",
        "\n",
        "\n",
        "# Sebelum mengerjakan dibaca dengan seksama teorinya. **Rumus matematis untuk semua soal sudah ada di lembar ini**\n",
        "\n",
        "## Deadline (06.00 AM WIB 15/06/2020)\n",
        "\n",
        "## Jadwal update github: Rabu, Sabtu, Senin\n",
        "\n",
        "## Untuk yang tidak mengerjakan di colab:\n",
        "* Install matplotlib, atau\n",
        "* Kode visualilasasi dihiraukan saja \n",
        "\n",
        "\n",
        "\n",
        "\n",
        "---\n",
        "\n"
      ]
    },
    {
      "cell_type": "markdown",
      "metadata": {
        "id": "6Vfcl3l1wj5X",
        "colab_type": "text"
      },
      "source": [
        "# <center>Estimasi nilai $\\pi$ dengan Monte Carlo</center>\n",
        "Dalam project kali ini kita akan memnbuat suatu program simulasi untuk mengestimasi nilai $\\pi$ dengan menggunakan metode Monte Carlo. \n",
        "\n",
        "Monte Carlo merupakan sebuah algoritme matematis yang berdasarkan simulasi dari nilai-nilai random yang diulang-ulang berkali-kali untuk memprediksi distribusi suatu fenomena yang banyak digunakan untuk analisis resiko dan pengambilan keputusan.\n",
        "\n",
        "## Project Items:\n",
        "1. Estimasi luas lingkaran denga MC.\n",
        "2. Estimasi nilai $\\pi$ dengan MC.\n",
        "3. Menghitung error relative dari estimasi $\\pi$ dengan MC."
      ]
    },
    {
      "cell_type": "markdown",
      "metadata": {
        "id": "BqVNRiWzzdk1",
        "colab_type": "text"
      },
      "source": [
        "## Fungsi lingkaran:\n",
        "$$L((x_0,y_0),r)\t\\equiv (x-x_0)^2+(y-y_0)^2=r^2$$\n",
        "merupakan suatu lingkaran yang berpusat di $(x_0,y_0)$ (cth: _titik $\\times$ pada gambar di bawah_) dengan jari-jari $r$. Titik-titik $(x,y)$ yang memenuhi persamaan tersebut merupakan suatu titik yang berada digaris lingkaran $L((x_0,y_0),r)\t$.\n",
        "\n",
        "\n",
        "**note: jari-jari, $r$, merupakan jarak dari titik pusat lingkaran  $(x_0,y_0)$ ke tepi/garis lingkaran, atau setengah dari diameter lingkaran.** \n",
        "\n",
        "Penjelasan mudahnya:\n",
        "*  Jika suatu titik $(x,y)$ sedemikian hingga $(x-x_0)^2+(y-y_0)^2 < r^2$, maka titik tersebut berada di **DALAM** lingkaran $L((x_0,y_0),r)\t$ -- \n",
        "(cth: titik $\\triangle$).\n",
        "*  Jika suatu titik $(x,y)$ sedemikian hingga $(x-x_0)^2+(y-y_0)^2 > r^2$, maka titik tersebut berada di **LUAR** lingkaran $L((x_0,y_0),r)\t$ -- (cth: titik $+$).\n",
        "*  Jika suatu titik $(x,y)$ sedemikian hingga $(x-x_0)^2+(y-y_0)^2 = r^2$, maka titik tersebut berada **TEPAT DI GARIS** lingkaran $L((x_0,y_0),r)\t$ -- (cth: titik $\\bigcirc$).\n",
        "\n",
        "![alt text](https://github.com/sykrn/py-dts/blob/master/asets/linkaran.png?raw=true)\n",
        "\n"
      ]
    },
    {
      "cell_type": "markdown",
      "metadata": {
        "id": "Nd-sDRm3CC_i",
        "colab_type": "text"
      },
      "source": [
        "\n",
        "\n",
        "---\n",
        "\n",
        "\n",
        "### 1. Buatlah sebuah fungsi `isPointInCircle` dengan posisional argument `x,y,r` dan keyword argument `center` dengan default value sebuah tupple dua nilai `(0,0)`. Untuk menentukan apakah titik `(x,y)` berada di dalam atau di luar lingkaran $L(\\rm{center},r)$. Keluaran fungsi `isPointInCircle` merupakan suatu nilai boolean, `True` Jika titik `(x,y)` berada di dalam lingkaran dan `False` Jika berada di luar.\n",
        "**Note: titik yang berada tepat di lingkaran dikategorikan sebagai dalam, maka `True`.**"
      ]
    },
    {
      "cell_type": "code",
      "metadata": {
        "id": "7Cr4z36_PyJq",
        "colab_type": "code",
        "colab": {}
      },
      "source": [
        "#Graded\n",
        "\n",
        "def isPointInCircle(x,y,r,center=(0,0)):\n",
        "  # MULAI KODEMU DI SINI\n",
        "  pass\n",
        "  Boolean = None\n",
        "  if (((x - center[0])**2) + ((y - center[1])**2)) <= r**2:\n",
        "    Boolean = True\n",
        "  else:\n",
        "    Boolean = False\n",
        "  return Boolean"
      ],
      "execution_count": 1,
      "outputs": []
    },
    {
      "cell_type": "code",
      "metadata": {
        "id": "vzxpk2ejADGn",
        "colab_type": "code",
        "colab": {}
      },
      "source": [
        "#CEK OUTPUT KODE ANDA\n",
        "print(isPointInCircle(1,1,1,center=(0,0)),isPointInCircle(1,0,1,center=(0,0)),\n",
        "      isPointInCircle(1,1,1,center=(1,0)),isPointInCircle(0,0,1,center=(1,1)))"
      ],
      "execution_count": 139,
      "outputs": [
        {
          "output_type": "stream",
          "name": "stdout",
          "text": "False True True False\n"
        }
      ]
    },
    {
      "cell_type": "markdown",
      "metadata": {
        "id": "9d-hkB-DACO6",
        "colab_type": "text"
      },
      "source": [
        "### Expected output\n",
        "```\n",
        "False True True False\n",
        "```\n",
        "\n"
      ]
    },
    {
      "cell_type": "markdown",
      "metadata": {
        "id": "9UIzNJ0s8kKV",
        "colab_type": "text"
      },
      "source": [
        "\n",
        "\n",
        "---\n",
        "\n",
        "\n",
        "## 2. `generateRandomSquarePoints` dengan dua positional argumen `n` dan `length`, dan keyword argument `center` default: tupple`(0,0)`. Fungsi ini akan mengeluarkan suatu list dengan jumlah `n` titik random `[x,y]` yang berada di dalam suatu kotak persegi dengan panjang `length` dan titik tengah `center`. Keluaran fungsi merupakan list dari `n` titik random `[x,y]`, cth: `[[x1,y1],...,[xn,yn]]`.\n",
        "\n",
        "**hint:**\n",
        "\n",
        "1. Jarak titik tengah `center` ke tepi persegi sama dengan `length/2`.\n",
        "2. Untuk menghasilkan nilai random, gunakan `random.uniform`, penjelasan [random.uniform](https://docs.python.org/3/library/random.html#random.uniform). Untuk menentukan nilai `a` dan `b` dari fungsi random.uniform, coba perhatikan gambar di cell bawah dengan `center=(0,0)`. Note: harus fleksible ketika titik `center` berubah.\n",
        "3. Gunakan list comprehension untuk men-generate n titik x,y tersebut.\n",
        "4. Untuk menyelesaikan hanya butuh ubah satu baris kode, ganti `None` value, dengan kode anda.\n"
      ]
    },
    {
      "cell_type": "code",
      "metadata": {
        "id": "6-t8X3M-c_c3",
        "colab_type": "code",
        "colab": {}
      },
      "source": [
        "#Graded\n",
        "import random\n",
        "\n",
        "\n",
        "def generateRandomSquarePoints(n,length,center=(0,0)):\n",
        "  # MULAI KODEMU DI SINI\n",
        "  minx = center[0]-length/2\n",
        "  miny = center[1]-length/2\n",
        "  \n",
        "  # Gunakan list comprehension dengan variable minx, miny, length, dan n\n",
        "  points = [[random.uniform(minx, length/2), random.uniform(miny, length/2)] for i in range(n)]\n",
        "\n",
        "  return points\n"
      ],
      "execution_count": 2,
      "outputs": []
    },
    {
      "cell_type": "code",
      "metadata": {
        "id": "LxZ8ca0ihV-P",
        "colab_type": "code",
        "colab": {}
      },
      "source": [
        "#CEK OUTPUT KODE ANDA\n",
        "random.seed(0)\n",
        "\n",
        "# generate 100 point di dalam persegi dengan panjang sisi 1 dan berpusat di (0,0)\n",
        "points = generateRandomSquarePoints(100,1)\n",
        "print(points[0:15])\n",
        "\n"
      ],
      "execution_count": 115,
      "outputs": [
        {
          "output_type": "stream",
          "name": "stdout",
          "text": "[[0.3444218515250481, 0.2579544029403025], [-0.079428419169155, -0.24108324970703665], [0.01127472136860852, -0.09506586254958571], [0.2837985890347726, -0.19668727392107255], [-0.02340304584764419, 0.0833820394550312], [0.4081128851953352, 0.004686855817390256], [-0.21816215560029617, 0.25580420415722394], [0.11836899667533163, -0.24949365863755946], [0.4097462559682401, 0.4827854760376531], [0.31021723599658957, 0.4021659504395827], [-0.18985243068066737, 0.22983174826012864], [0.3988382879679935, 0.18398393191544127], [-0.027857284547286643, -0.3992987919316342], [-0.06582816454621632, 0.1108869734438016], [0.4130110532378982, 0.4666063677707588]]\n"
        }
      ]
    },
    {
      "cell_type": "markdown",
      "metadata": {
        "id": "_KD6pskbg0ZT",
        "colab_type": "text"
      },
      "source": [
        "### Expected output:\n",
        "```\n",
        "[[-0.18985243068066737, 0.22983174826012864],\n",
        " [0.3988382879679935, 0.18398393191544127],\n",
        " [-0.027857284547286643, -0.3992987919316342],\n",
        " [-0.06582816454621632, 0.1108869734438016],\n",
        " [0.4130110532378982, 0.4666063677707588]]\n",
        " ```"
      ]
    },
    {
      "cell_type": "code",
      "metadata": {
        "id": "fxlJL4n3HQUO",
        "colab_type": "code",
        "colab": {}
      },
      "source": [
        "#CEK OUTPUT KODE ANDA VISUALISASI\n",
        "# Mari kita Visualisasikan \n",
        "# Jika sama dengan gambar di bawah ini maka keluaran sesuai harapan\n",
        "import matplotlib.pyplot as plt\n",
        "x,y = zip(*points)\n",
        "\n",
        "# persegi dengan panjang sisi 1 dan berpusat di (0,0)\n",
        "r1 = plt.Rectangle((-0.5,-0.5),1,1,color='r', fill=False)\n",
        "c1 = plt.Circle((0,0), 0.5, color='b', fill=False)\n",
        "fig, ax = plt.subplots(figsize=(9,9)) \n",
        "ax.add_artist(r1)\n",
        "ax.add_artist(c1)\n",
        "plt.xlim(-0.6,0.6)\n",
        "plt.ylim(-0.6,0.6)\n",
        "plt.scatter(x,y,s=100,marker='x')\n",
        "plt.show()\n"
      ],
      "execution_count": 113,
      "outputs": [
        {
          "output_type": "display_data",
          "data": {
            "text/plain": "<Figure size 648x648 with 1 Axes>",
            "image/svg+xml": "<?xml version=\"1.0\" encoding=\"utf-8\" standalone=\"no\"?>\r\n<!DOCTYPE svg PUBLIC \"-//W3C//DTD SVG 1.1//EN\"\r\n  \"http://www.w3.org/Graphics/SVG/1.1/DTD/svg11.dtd\">\r\n<!-- Created with matplotlib (https://matplotlib.org/) -->\r\n<svg height=\"524.117344pt\" version=\"1.1\" viewBox=\"0 0 555.834375 524.117344\" width=\"555.834375pt\" xmlns=\"http://www.w3.org/2000/svg\" xmlns:xlink=\"http://www.w3.org/1999/xlink\">\r\n <defs>\r\n  <style type=\"text/css\">\r\n*{stroke-linecap:butt;stroke-linejoin:round;}\r\n  </style>\r\n </defs>\r\n <g id=\"figure_1\">\r\n  <g id=\"patch_1\">\r\n   <path d=\"M 0 524.117344 \r\nL 555.834375 524.117344 \r\nL 555.834375 0 \r\nL 0 0 \r\nz\r\n\" style=\"fill:none;\"/>\r\n  </g>\r\n  <g id=\"axes_1\">\r\n   <g id=\"patch_2\">\r\n    <path d=\"M 38.482813 500.239219 \r\nL 540.682813 500.239219 \r\nL 540.682813 10.999219 \r\nL 38.482813 10.999219 \r\nz\r\n\" style=\"fill:#ffffff;\"/>\r\n   </g>\r\n   <g id=\"PathCollection_1\">\r\n    <defs>\r\n     <path d=\"M -5 5 \r\nL 5 -5 \r\nM -5 -5 \r\nL 5 5 \r\n\" id=\"m6b866d6060\" style=\"stroke:#1f77b4;stroke-width:1.5;\"/>\r\n    </defs>\r\n    <g clip-path=\"url(#p8813fd71d7)\">\r\n     <use style=\"fill:#1f77b4;stroke:#1f77b4;stroke-width:1.5;\" x=\"433.723357\" xlink:href=\"#m6b866d6060\" y=\"150.451209\"/>\r\n     <use style=\"fill:#1f77b4;stroke:#1f77b4;stroke-width:1.5;\" x=\"256.342019\" xlink:href=\"#m6b866d6060\" y=\"353.90886\"/>\r\n     <use style=\"fill:#1f77b4;stroke:#1f77b4;stroke-width:1.5;\" x=\"294.301283\" xlink:href=\"#m6b866d6060\" y=\"294.377571\"/>\r\n     <use style=\"fill:#1f77b4;stroke:#1f77b4;stroke-width:1.5;\" x=\"408.352522\" xlink:href=\"#m6b866d6060\" y=\"335.80862\"/>\r\n     <use style=\"fill:#1f77b4;stroke:#1f77b4;stroke-width:1.5;\" x=\"279.788638\" xlink:href=\"#m6b866d6060\" y=\"221.624361\"/>\r\n     <use style=\"fill:#1f77b4;stroke:#1f77b4;stroke-width:1.5;\" x=\"460.378055\" xlink:href=\"#m6b866d6060\" y=\"253.708388\"/>\r\n     <use style=\"fill:#1f77b4;stroke:#1f77b4;stroke-width:1.5;\" x=\"198.28195\" xlink:href=\"#m6b866d6060\" y=\"151.327845\"/>\r\n     <use style=\"fill:#1f77b4;stroke:#1f77b4;stroke-width:1.5;\" x=\"339.120238\" xlink:href=\"#m6b866d6060\" y=\"357.337783\"/>\r\n     <use style=\"fill:#1f77b4;stroke:#1f77b4;stroke-width:1.5;\" x=\"461.061621\" xlink:href=\"#m6b866d6060\" y=\"58.78758\"/>\r\n     <use style=\"fill:#1f77b4;stroke:#1f77b4;stroke-width:1.5;\" x=\"419.408726\" xlink:href=\"#m6b866d6060\" y=\"91.656161\"/>\r\n     <use style=\"fill:#1f77b4;stroke:#1f77b4;stroke-width:1.5;\" x=\"210.12957\" xlink:href=\"#m6b866d6060\" y=\"161.916815\"/>\r\n     <use style=\"fill:#1f77b4;stroke:#1f77b4;stroke-width:1.5;\" x=\"456.496636\" xlink:href=\"#m6b866d6060\" y=\"180.60897\"/>\r\n     <use style=\"fill:#1f77b4;stroke:#1f77b4;stroke-width:1.5;\" x=\"277.924539\" xlink:href=\"#m6b866d6060\" y=\"418.413336\"/>\r\n     <use style=\"fill:#1f77b4;stroke:#1f77b4;stroke-width:1.5;\" x=\"262.033726\" xlink:href=\"#m6b866d6060\" y=\"210.4106\"/>\r\n     <use style=\"fill:#1f77b4;stroke:#1f77b4;stroke-width:1.5;\" x=\"462.427938\" xlink:href=\"#m6b866d6060\" y=\"65.383803\"/>\r\n     <use style=\"fill:#1f77b4;stroke:#1f77b4;stroke-width:1.5;\" x=\"279.961404\" xlink:href=\"#m6b866d6060\" y=\"106.682361\"/>\r\n     <use style=\"fill:#1f77b4;stroke:#1f77b4;stroke-width:1.5;\" x=\"189.348844\" xlink:href=\"#m6b866d6060\" y=\"131.259374\"/>\r\n     <use style=\"fill:#1f77b4;stroke:#1f77b4;stroke-width:1.5;\" x=\"309.963471\" xlink:href=\"#m6b866d6060\" y=\"453.744418\"/>\r\n     <use style=\"fill:#1f77b4;stroke:#1f77b4;stroke-width:1.5;\" x=\"381.529224\" xlink:href=\"#m6b866d6060\" y=\"296.868861\"/>\r\n     <use style=\"fill:#1f77b4;stroke:#1f77b4;stroke-width:1.5;\" x=\"425.530435\" xlink:href=\"#m6b866d6060\" y=\"187.063159\"/>\r\n     <use style=\"fill:#1f77b4;stroke:#1f77b4;stroke-width:1.5;\" x=\"80.811082\" xlink:href=\"#m6b866d6060\" y=\"258.237523\"/>\r\n     <use style=\"fill:#1f77b4;stroke:#1f77b4;stroke-width:1.5;\" x=\"443.424574\" xlink:href=\"#m6b866d6060\" y=\"360.026754\"/>\r\n     <use style=\"fill:#1f77b4;stroke:#1f77b4;stroke-width:1.5;\" x=\"216.430838\" xlink:href=\"#m6b866d6060\" y=\"104.578097\"/>\r\n     <use style=\"fill:#1f77b4;stroke:#1f77b4;stroke-width:1.5;\" x=\"160.29439\" xlink:href=\"#m6b866d6060\" y=\"228.09509\"/>\r\n     <use style=\"fill:#1f77b4;stroke:#1f77b4;stroke-width:1.5;\" x=\"180.193579\" xlink:href=\"#m6b866d6060\" y=\"65.003059\"/>\r\n     <use style=\"fill:#1f77b4;stroke:#1f77b4;stroke-width:1.5;\" x=\"416.46342\" xlink:href=\"#m6b866d6060\" y=\"276.832024\"/>\r\n     <use style=\"fill:#1f77b4;stroke:#1f77b4;stroke-width:1.5;\" x=\"113.999388\" xlink:href=\"#m6b866d6060\" y=\"328.982956\"/>\r\n     <use style=\"fill:#1f77b4;stroke:#1f77b4;stroke-width:1.5;\" x=\"292.905971\" xlink:href=\"#m6b866d6060\" y=\"79.152869\"/>\r\n     <use style=\"fill:#1f77b4;stroke:#1f77b4;stroke-width:1.5;\" x=\"125.973521\" xlink:href=\"#m6b866d6060\" y=\"234.717563\"/>\r\n     <use style=\"fill:#1f77b4;stroke:#1f77b4;stroke-width:1.5;\" x=\"376.028763\" xlink:href=\"#m6b866d6060\" y=\"236.277559\"/>\r\n     <use style=\"fill:#1f77b4;stroke:#1f77b4;stroke-width:1.5;\" x=\"421.187195\" xlink:href=\"#m6b866d6060\" y=\"239.195592\"/>\r\n     <use style=\"fill:#1f77b4;stroke:#1f77b4;stroke-width:1.5;\" x=\"483.699244\" xlink:href=\"#m6b866d6060\" y=\"213.550438\"/>\r\n     <use style=\"fill:#1f77b4;stroke:#1f77b4;stroke-width:1.5;\" x=\"326.250554\" xlink:href=\"#m6b866d6060\" y=\"278.047193\"/>\r\n     <use style=\"fill:#1f77b4;stroke:#1f77b4;stroke-width:1.5;\" x=\"329.878864\" xlink:href=\"#m6b866d6060\" y=\"302.545022\"/>\r\n     <use style=\"fill:#1f77b4;stroke:#1f77b4;stroke-width:1.5;\" x=\"321.242762\" xlink:href=\"#m6b866d6060\" y=\"341.101881\"/>\r\n     <use style=\"fill:#1f77b4;stroke:#1f77b4;stroke-width:1.5;\" x=\"159.593083\" xlink:href=\"#m6b866d6060\" y=\"383.33959\"/>\r\n     <use style=\"fill:#1f77b4;stroke:#1f77b4;stroke-width:1.5;\" x=\"336.778388\" xlink:href=\"#m6b866d6060\" y=\"191.749186\"/>\r\n     <use style=\"fill:#1f77b4;stroke:#1f77b4;stroke-width:1.5;\" x=\"279.761033\" xlink:href=\"#m6b866d6060\" y=\"422.847827\"/>\r\n     <use style=\"fill:#1f77b4;stroke:#1f77b4;stroke-width:1.5;\" x=\"397.390054\" xlink:href=\"#m6b866d6060\" y=\"102.009939\"/>\r\n     <use style=\"fill:#1f77b4;stroke:#1f77b4;stroke-width:1.5;\" x=\"466.767768\" xlink:href=\"#m6b866d6060\" y=\"115.998186\"/>\r\n     <use style=\"fill:#1f77b4;stroke:#1f77b4;stroke-width:1.5;\" x=\"456.218264\" xlink:href=\"#m6b866d6060\" y=\"83.128508\"/>\r\n     <use style=\"fill:#1f77b4;stroke:#1f77b4;stroke-width:1.5;\" x=\"306.573881\" xlink:href=\"#m6b866d6060\" y=\"299.937819\"/>\r\n     <use style=\"fill:#1f77b4;stroke:#1f77b4;stroke-width:1.5;\" x=\"375.493915\" xlink:href=\"#m6b866d6060\" y=\"347.093187\"/>\r\n     <use style=\"fill:#1f77b4;stroke:#1f77b4;stroke-width:1.5;\" x=\"419.999427\" xlink:href=\"#m6b866d6060\" y=\"113.133791\"/>\r\n     <use style=\"fill:#1f77b4;stroke:#1f77b4;stroke-width:1.5;\" x=\"454.90662\" xlink:href=\"#m6b866d6060\" y=\"219.007276\"/>\r\n     <use style=\"fill:#1f77b4;stroke:#1f77b4;stroke-width:1.5;\" x=\"477.809412\" xlink:href=\"#m6b866d6060\" y=\"223.127563\"/>\r\n     <use style=\"fill:#1f77b4;stroke:#1f77b4;stroke-width:1.5;\" x=\"268.893473\" xlink:href=\"#m6b866d6060\" y=\"190.287178\"/>\r\n     <use style=\"fill:#1f77b4;stroke:#1f77b4;stroke-width:1.5;\" x=\"497.266718\" xlink:href=\"#m6b866d6060\" y=\"85.632284\"/>\r\n     <use style=\"fill:#1f77b4;stroke:#1f77b4;stroke-width:1.5;\" x=\"412.33936\" xlink:href=\"#m6b866d6060\" y=\"425.885751\"/>\r\n     <use style=\"fill:#1f77b4;stroke:#1f77b4;stroke-width:1.5;\" x=\"336.782542\" xlink:href=\"#m6b866d6060\" y=\"261.145918\"/>\r\n     <use style=\"fill:#1f77b4;stroke:#1f77b4;stroke-width:1.5;\" x=\"344.049474\" xlink:href=\"#m6b866d6060\" y=\"114.931091\"/>\r\n     <use style=\"fill:#1f77b4;stroke:#1f77b4;stroke-width:1.5;\" x=\"182.04322\" xlink:href=\"#m6b866d6060\" y=\"161.241063\"/>\r\n     <use style=\"fill:#1f77b4;stroke:#1f77b4;stroke-width:1.5;\" x=\"129.353514\" xlink:href=\"#m6b866d6060\" y=\"369.587458\"/>\r\n     <use style=\"fill:#1f77b4;stroke:#1f77b4;stroke-width:1.5;\" x=\"412.865786\" xlink:href=\"#m6b866d6060\" y=\"323.894231\"/>\r\n     <use style=\"fill:#1f77b4;stroke:#1f77b4;stroke-width:1.5;\" x=\"421.792443\" xlink:href=\"#m6b866d6060\" y=\"418.451533\"/>\r\n     <use style=\"fill:#1f77b4;stroke:#1f77b4;stroke-width:1.5;\" x=\"141.58384\" xlink:href=\"#m6b866d6060\" y=\"175.028899\"/>\r\n     <use style=\"fill:#1f77b4;stroke:#1f77b4;stroke-width:1.5;\" x=\"99.26327\" xlink:href=\"#m6b866d6060\" y=\"225.504036\"/>\r\n     <use style=\"fill:#1f77b4;stroke:#1f77b4;stroke-width:1.5;\" x=\"461.174515\" xlink:href=\"#m6b866d6060\" y=\"241.676707\"/>\r\n     <use style=\"fill:#1f77b4;stroke:#1f77b4;stroke-width:1.5;\" x=\"365.159364\" xlink:href=\"#m6b866d6060\" y=\"448.584936\"/>\r\n     <use style=\"fill:#1f77b4;stroke:#1f77b4;stroke-width:1.5;\" x=\"346.080275\" xlink:href=\"#m6b866d6060\" y=\"212.265046\"/>\r\n     <use style=\"fill:#1f77b4;stroke:#1f77b4;stroke-width:1.5;\" x=\"321.369121\" xlink:href=\"#m6b866d6060\" y=\"299.973143\"/>\r\n     <use style=\"fill:#1f77b4;stroke:#1f77b4;stroke-width:1.5;\" x=\"235.236378\" xlink:href=\"#m6b866d6060\" y=\"59.71258\"/>\r\n     <use style=\"fill:#1f77b4;stroke:#1f77b4;stroke-width:1.5;\" x=\"95.56288\" xlink:href=\"#m6b866d6060\" y=\"450.648014\"/>\r\n     <use style=\"fill:#1f77b4;stroke:#1f77b4;stroke-width:1.5;\" x=\"482.524403\" xlink:href=\"#m6b866d6060\" y=\"384.056158\"/>\r\n     <use style=\"fill:#1f77b4;stroke:#1f77b4;stroke-width:1.5;\" x=\"132.182939\" xlink:href=\"#m6b866d6060\" y=\"373.617176\"/>\r\n     <use style=\"fill:#1f77b4;stroke:#1f77b4;stroke-width:1.5;\" x=\"415.445261\" xlink:href=\"#m6b866d6060\" y=\"77.466893\"/>\r\n     <use style=\"fill:#1f77b4;stroke:#1f77b4;stroke-width:1.5;\" x=\"89.86732\" xlink:href=\"#m6b866d6060\" y=\"285.944421\"/>\r\n     <use style=\"fill:#1f77b4;stroke:#1f77b4;stroke-width:1.5;\" x=\"122.810654\" xlink:href=\"#m6b866d6060\" y=\"353.49988\"/>\r\n     <use style=\"fill:#1f77b4;stroke:#1f77b4;stroke-width:1.5;\" x=\"172.749863\" xlink:href=\"#m6b866d6060\" y=\"195.717603\"/>\r\n     <use style=\"fill:#1f77b4;stroke:#1f77b4;stroke-width:1.5;\" x=\"226.930838\" xlink:href=\"#m6b866d6060\" y=\"385.95361\"/>\r\n     <use style=\"fill:#1f77b4;stroke:#1f77b4;stroke-width:1.5;\" x=\"291.10469\" xlink:href=\"#m6b866d6060\" y=\"443.41452\"/>\r\n     <use style=\"fill:#1f77b4;stroke:#1f77b4;stroke-width:1.5;\" x=\"122.568352\" xlink:href=\"#m6b866d6060\" y=\"56.565749\"/>\r\n     <use style=\"fill:#1f77b4;stroke:#1f77b4;stroke-width:1.5;\" x=\"163.763211\" xlink:href=\"#m6b866d6060\" y=\"313.286222\"/>\r\n     <use style=\"fill:#1f77b4;stroke:#1f77b4;stroke-width:1.5;\" x=\"386.506704\" xlink:href=\"#m6b866d6060\" y=\"117.683478\"/>\r\n     <use style=\"fill:#1f77b4;stroke:#1f77b4;stroke-width:1.5;\" x=\"464.717555\" xlink:href=\"#m6b866d6060\" y=\"390.394807\"/>\r\n     <use style=\"fill:#1f77b4;stroke:#1f77b4;stroke-width:1.5;\" x=\"361.832888\" xlink:href=\"#m6b866d6060\" y=\"65.407231\"/>\r\n     <use style=\"fill:#1f77b4;stroke:#1f77b4;stroke-width:1.5;\" x=\"104.627132\" xlink:href=\"#m6b866d6060\" y=\"183.781751\"/>\r\n     <use style=\"fill:#1f77b4;stroke:#1f77b4;stroke-width:1.5;\" x=\"434.143005\" xlink:href=\"#m6b866d6060\" y=\"319.908396\"/>\r\n     <use style=\"fill:#1f77b4;stroke:#1f77b4;stroke-width:1.5;\" x=\"185.245464\" xlink:href=\"#m6b866d6060\" y=\"216.157368\"/>\r\n     <use style=\"fill:#1f77b4;stroke:#1f77b4;stroke-width:1.5;\" x=\"265.441236\" xlink:href=\"#m6b866d6060\" y=\"388.195315\"/>\r\n     <use style=\"fill:#1f77b4;stroke:#1f77b4;stroke-width:1.5;\" x=\"277.708049\" xlink:href=\"#m6b866d6060\" y=\"292.350789\"/>\r\n     <use style=\"fill:#1f77b4;stroke:#1f77b4;stroke-width:1.5;\" x=\"318.506494\" xlink:href=\"#m6b866d6060\" y=\"252.112946\"/>\r\n     <use style=\"fill:#1f77b4;stroke:#1f77b4;stroke-width:1.5;\" x=\"210.672964\" xlink:href=\"#m6b866d6060\" y=\"313.858478\"/>\r\n     <use style=\"fill:#1f77b4;stroke:#1f77b4;stroke-width:1.5;\" x=\"430.894014\" xlink:href=\"#m6b866d6060\" y=\"357.163971\"/>\r\n     <use style=\"fill:#1f77b4;stroke:#1f77b4;stroke-width:1.5;\" x=\"314.944004\" xlink:href=\"#m6b866d6060\" y=\"454.398932\"/>\r\n     <use style=\"fill:#1f77b4;stroke:#1f77b4;stroke-width:1.5;\" x=\"390.681689\" xlink:href=\"#m6b866d6060\" y=\"322.516039\"/>\r\n     <use style=\"fill:#1f77b4;stroke:#1f77b4;stroke-width:1.5;\" x=\"99.456795\" xlink:href=\"#m6b866d6060\" y=\"344.953153\"/>\r\n     <use style=\"fill:#1f77b4;stroke:#1f77b4;stroke-width:1.5;\" x=\"180.827388\" xlink:href=\"#m6b866d6060\" y=\"70.878387\"/>\r\n     <use style=\"fill:#1f77b4;stroke:#1f77b4;stroke-width:1.5;\" x=\"227.73921\" xlink:href=\"#m6b866d6060\" y=\"342.101393\"/>\r\n     <use style=\"fill:#1f77b4;stroke:#1f77b4;stroke-width:1.5;\" x=\"230.658514\" xlink:href=\"#m6b866d6060\" y=\"73.41571\"/>\r\n     <use style=\"fill:#1f77b4;stroke:#1f77b4;stroke-width:1.5;\" x=\"345.556289\" xlink:href=\"#m6b866d6060\" y=\"206.256189\"/>\r\n     <use style=\"fill:#1f77b4;stroke:#1f77b4;stroke-width:1.5;\" x=\"379.819511\" xlink:href=\"#m6b866d6060\" y=\"301.274592\"/>\r\n     <use style=\"fill:#1f77b4;stroke:#1f77b4;stroke-width:1.5;\" x=\"253.766741\" xlink:href=\"#m6b866d6060\" y=\"194.124661\"/>\r\n     <use style=\"fill:#1f77b4;stroke:#1f77b4;stroke-width:1.5;\" x=\"80.970699\" xlink:href=\"#m6b866d6060\" y=\"381.064619\"/>\r\n     <use style=\"fill:#1f77b4;stroke:#1f77b4;stroke-width:1.5;\" x=\"220.27992\" xlink:href=\"#m6b866d6060\" y=\"361.859332\"/>\r\n     <use style=\"fill:#1f77b4;stroke:#1f77b4;stroke-width:1.5;\" x=\"347.084462\" xlink:href=\"#m6b866d6060\" y=\"305.0944\"/>\r\n     <use style=\"fill:#1f77b4;stroke:#1f77b4;stroke-width:1.5;\" x=\"446.697502\" xlink:href=\"#m6b866d6060\" y=\"227.833884\"/>\r\n     <use style=\"fill:#1f77b4;stroke:#1f77b4;stroke-width:1.5;\" x=\"253.76189\" xlink:href=\"#m6b866d6060\" y=\"295.464932\"/>\r\n     <use style=\"fill:#1f77b4;stroke:#1f77b4;stroke-width:1.5;\" x=\"374.04851\" xlink:href=\"#m6b866d6060\" y=\"288.958253\"/>\r\n     <use style=\"fill:#1f77b4;stroke:#1f77b4;stroke-width:1.5;\" x=\"357.461792\" xlink:href=\"#m6b866d6060\" y=\"440.397141\"/>\r\n    </g>\r\n   </g>\r\n   <g id=\"patch_3\">\r\n    <path clip-path=\"url(#p8813fd71d7)\" d=\"M 80.332813 459.469219 \r\nL 498.832813 459.469219 \r\nL 498.832813 51.769219 \r\nL 80.332813 51.769219 \r\nz\r\n\" style=\"fill:none;stroke:#ff0000;stroke-linejoin:miter;\"/>\r\n   </g>\r\n   <g id=\"patch_4\">\r\n    <path clip-path=\"url(#p8813fd71d7)\" d=\"M 289.582813 459.469219 \r\nC 345.076561 459.469219 398.3049 437.990297 437.544906 399.762936 \r\nC 476.784912 361.535575 498.832813 309.680871 498.832813 255.619219 \r\nC 498.832813 201.557567 476.784912 149.702862 437.544906 111.475501 \r\nC 398.3049 73.248141 345.076561 51.769219 289.582813 51.769219 \r\nC 234.089064 51.769219 180.860725 73.248141 141.620719 111.475501 \r\nC 102.380713 149.702862 80.332813 201.557567 80.332813 255.619219 \r\nC 80.332813 309.680871 102.380713 361.535575 141.620719 399.762936 \r\nC 180.860725 437.990297 234.089064 459.469219 289.582813 459.469219 \r\nz\r\n\" style=\"fill:none;stroke:#0000ff;stroke-linejoin:miter;\"/>\r\n   </g>\r\n   <g id=\"matplotlib.axis_1\">\r\n    <g id=\"xtick_1\">\r\n     <g id=\"line2d_1\">\r\n      <defs>\r\n       <path d=\"M 0 0 \r\nL 0 3.5 \r\n\" id=\"ma0426862f2\" style=\"stroke:#000000;stroke-width:0.8;\"/>\r\n      </defs>\r\n      <g>\r\n       <use style=\"stroke:#000000;stroke-width:0.8;\" x=\"38.482812\" xlink:href=\"#ma0426862f2\" y=\"500.239219\"/>\r\n      </g>\r\n     </g>\r\n     <g id=\"text_1\">\r\n      <!-- −0.6 -->\r\n      <defs>\r\n       <path d=\"M 10.59375 35.5 \r\nL 73.1875 35.5 \r\nL 73.1875 27.203125 \r\nL 10.59375 27.203125 \r\nz\r\n\" id=\"DejaVuSans-8722\"/>\r\n       <path d=\"M 31.78125 66.40625 \r\nQ 24.171875 66.40625 20.328125 58.90625 \r\nQ 16.5 51.421875 16.5 36.375 \r\nQ 16.5 21.390625 20.328125 13.890625 \r\nQ 24.171875 6.390625 31.78125 6.390625 \r\nQ 39.453125 6.390625 43.28125 13.890625 \r\nQ 47.125 21.390625 47.125 36.375 \r\nQ 47.125 51.421875 43.28125 58.90625 \r\nQ 39.453125 66.40625 31.78125 66.40625 \r\nz\r\nM 31.78125 74.21875 \r\nQ 44.046875 74.21875 50.515625 64.515625 \r\nQ 56.984375 54.828125 56.984375 36.375 \r\nQ 56.984375 17.96875 50.515625 8.265625 \r\nQ 44.046875 -1.421875 31.78125 -1.421875 \r\nQ 19.53125 -1.421875 13.0625 8.265625 \r\nQ 6.59375 17.96875 6.59375 36.375 \r\nQ 6.59375 54.828125 13.0625 64.515625 \r\nQ 19.53125 74.21875 31.78125 74.21875 \r\nz\r\n\" id=\"DejaVuSans-48\"/>\r\n       <path d=\"M 10.6875 12.40625 \r\nL 21 12.40625 \r\nL 21 0 \r\nL 10.6875 0 \r\nz\r\n\" id=\"DejaVuSans-46\"/>\r\n       <path d=\"M 33.015625 40.375 \r\nQ 26.375 40.375 22.484375 35.828125 \r\nQ 18.609375 31.296875 18.609375 23.390625 \r\nQ 18.609375 15.53125 22.484375 10.953125 \r\nQ 26.375 6.390625 33.015625 6.390625 \r\nQ 39.65625 6.390625 43.53125 10.953125 \r\nQ 47.40625 15.53125 47.40625 23.390625 \r\nQ 47.40625 31.296875 43.53125 35.828125 \r\nQ 39.65625 40.375 33.015625 40.375 \r\nz\r\nM 52.59375 71.296875 \r\nL 52.59375 62.3125 \r\nQ 48.875 64.0625 45.09375 64.984375 \r\nQ 41.3125 65.921875 37.59375 65.921875 \r\nQ 27.828125 65.921875 22.671875 59.328125 \r\nQ 17.53125 52.734375 16.796875 39.40625 \r\nQ 19.671875 43.65625 24.015625 45.921875 \r\nQ 28.375 48.1875 33.59375 48.1875 \r\nQ 44.578125 48.1875 50.953125 41.515625 \r\nQ 57.328125 34.859375 57.328125 23.390625 \r\nQ 57.328125 12.15625 50.6875 5.359375 \r\nQ 44.046875 -1.421875 33.015625 -1.421875 \r\nQ 20.359375 -1.421875 13.671875 8.265625 \r\nQ 6.984375 17.96875 6.984375 36.375 \r\nQ 6.984375 53.65625 15.1875 63.9375 \r\nQ 23.390625 74.21875 37.203125 74.21875 \r\nQ 40.921875 74.21875 44.703125 73.484375 \r\nQ 48.484375 72.75 52.59375 71.296875 \r\nz\r\n\" id=\"DejaVuSans-54\"/>\r\n      </defs>\r\n      <g transform=\"translate(26.341406 514.837656)scale(0.1 -0.1)\">\r\n       <use xlink:href=\"#DejaVuSans-8722\"/>\r\n       <use x=\"83.789062\" xlink:href=\"#DejaVuSans-48\"/>\r\n       <use x=\"147.412109\" xlink:href=\"#DejaVuSans-46\"/>\r\n       <use x=\"179.199219\" xlink:href=\"#DejaVuSans-54\"/>\r\n      </g>\r\n     </g>\r\n    </g>\r\n    <g id=\"xtick_2\">\r\n     <g id=\"line2d_2\">\r\n      <g>\r\n       <use style=\"stroke:#000000;stroke-width:0.8;\" x=\"122.182812\" xlink:href=\"#ma0426862f2\" y=\"500.239219\"/>\r\n      </g>\r\n     </g>\r\n     <g id=\"text_2\">\r\n      <!-- −0.4 -->\r\n      <defs>\r\n       <path d=\"M 37.796875 64.3125 \r\nL 12.890625 25.390625 \r\nL 37.796875 25.390625 \r\nz\r\nM 35.203125 72.90625 \r\nL 47.609375 72.90625 \r\nL 47.609375 25.390625 \r\nL 58.015625 25.390625 \r\nL 58.015625 17.1875 \r\nL 47.609375 17.1875 \r\nL 47.609375 0 \r\nL 37.796875 0 \r\nL 37.796875 17.1875 \r\nL 4.890625 17.1875 \r\nL 4.890625 26.703125 \r\nz\r\n\" id=\"DejaVuSans-52\"/>\r\n      </defs>\r\n      <g transform=\"translate(110.041406 514.837656)scale(0.1 -0.1)\">\r\n       <use xlink:href=\"#DejaVuSans-8722\"/>\r\n       <use x=\"83.789062\" xlink:href=\"#DejaVuSans-48\"/>\r\n       <use x=\"147.412109\" xlink:href=\"#DejaVuSans-46\"/>\r\n       <use x=\"179.199219\" xlink:href=\"#DejaVuSans-52\"/>\r\n      </g>\r\n     </g>\r\n    </g>\r\n    <g id=\"xtick_3\">\r\n     <g id=\"line2d_3\">\r\n      <g>\r\n       <use style=\"stroke:#000000;stroke-width:0.8;\" x=\"205.882812\" xlink:href=\"#ma0426862f2\" y=\"500.239219\"/>\r\n      </g>\r\n     </g>\r\n     <g id=\"text_3\">\r\n      <!-- −0.2 -->\r\n      <defs>\r\n       <path d=\"M 19.1875 8.296875 \r\nL 53.609375 8.296875 \r\nL 53.609375 0 \r\nL 7.328125 0 \r\nL 7.328125 8.296875 \r\nQ 12.9375 14.109375 22.625 23.890625 \r\nQ 32.328125 33.6875 34.8125 36.53125 \r\nQ 39.546875 41.84375 41.421875 45.53125 \r\nQ 43.3125 49.21875 43.3125 52.78125 \r\nQ 43.3125 58.59375 39.234375 62.25 \r\nQ 35.15625 65.921875 28.609375 65.921875 \r\nQ 23.96875 65.921875 18.8125 64.3125 \r\nQ 13.671875 62.703125 7.8125 59.421875 \r\nL 7.8125 69.390625 \r\nQ 13.765625 71.78125 18.9375 73 \r\nQ 24.125 74.21875 28.421875 74.21875 \r\nQ 39.75 74.21875 46.484375 68.546875 \r\nQ 53.21875 62.890625 53.21875 53.421875 \r\nQ 53.21875 48.921875 51.53125 44.890625 \r\nQ 49.859375 40.875 45.40625 35.40625 \r\nQ 44.1875 33.984375 37.640625 27.21875 \r\nQ 31.109375 20.453125 19.1875 8.296875 \r\nz\r\n\" id=\"DejaVuSans-50\"/>\r\n      </defs>\r\n      <g transform=\"translate(193.741406 514.837656)scale(0.1 -0.1)\">\r\n       <use xlink:href=\"#DejaVuSans-8722\"/>\r\n       <use x=\"83.789062\" xlink:href=\"#DejaVuSans-48\"/>\r\n       <use x=\"147.412109\" xlink:href=\"#DejaVuSans-46\"/>\r\n       <use x=\"179.199219\" xlink:href=\"#DejaVuSans-50\"/>\r\n      </g>\r\n     </g>\r\n    </g>\r\n    <g id=\"xtick_4\">\r\n     <g id=\"line2d_4\">\r\n      <g>\r\n       <use style=\"stroke:#000000;stroke-width:0.8;\" x=\"289.582813\" xlink:href=\"#ma0426862f2\" y=\"500.239219\"/>\r\n      </g>\r\n     </g>\r\n     <g id=\"text_4\">\r\n      <!-- 0.0 -->\r\n      <g transform=\"translate(281.63125 514.837656)scale(0.1 -0.1)\">\r\n       <use xlink:href=\"#DejaVuSans-48\"/>\r\n       <use x=\"63.623047\" xlink:href=\"#DejaVuSans-46\"/>\r\n       <use x=\"95.410156\" xlink:href=\"#DejaVuSans-48\"/>\r\n      </g>\r\n     </g>\r\n    </g>\r\n    <g id=\"xtick_5\">\r\n     <g id=\"line2d_5\">\r\n      <g>\r\n       <use style=\"stroke:#000000;stroke-width:0.8;\" x=\"373.282813\" xlink:href=\"#ma0426862f2\" y=\"500.239219\"/>\r\n      </g>\r\n     </g>\r\n     <g id=\"text_5\">\r\n      <!-- 0.2 -->\r\n      <g transform=\"translate(365.33125 514.837656)scale(0.1 -0.1)\">\r\n       <use xlink:href=\"#DejaVuSans-48\"/>\r\n       <use x=\"63.623047\" xlink:href=\"#DejaVuSans-46\"/>\r\n       <use x=\"95.410156\" xlink:href=\"#DejaVuSans-50\"/>\r\n      </g>\r\n     </g>\r\n    </g>\r\n    <g id=\"xtick_6\">\r\n     <g id=\"line2d_6\">\r\n      <g>\r\n       <use style=\"stroke:#000000;stroke-width:0.8;\" x=\"456.982813\" xlink:href=\"#ma0426862f2\" y=\"500.239219\"/>\r\n      </g>\r\n     </g>\r\n     <g id=\"text_6\">\r\n      <!-- 0.4 -->\r\n      <g transform=\"translate(449.03125 514.837656)scale(0.1 -0.1)\">\r\n       <use xlink:href=\"#DejaVuSans-48\"/>\r\n       <use x=\"63.623047\" xlink:href=\"#DejaVuSans-46\"/>\r\n       <use x=\"95.410156\" xlink:href=\"#DejaVuSans-52\"/>\r\n      </g>\r\n     </g>\r\n    </g>\r\n    <g id=\"xtick_7\">\r\n     <g id=\"line2d_7\">\r\n      <g>\r\n       <use style=\"stroke:#000000;stroke-width:0.8;\" x=\"540.682813\" xlink:href=\"#ma0426862f2\" y=\"500.239219\"/>\r\n      </g>\r\n     </g>\r\n     <g id=\"text_7\">\r\n      <!-- 0.6 -->\r\n      <g transform=\"translate(532.73125 514.837656)scale(0.1 -0.1)\">\r\n       <use xlink:href=\"#DejaVuSans-48\"/>\r\n       <use x=\"63.623047\" xlink:href=\"#DejaVuSans-46\"/>\r\n       <use x=\"95.410156\" xlink:href=\"#DejaVuSans-54\"/>\r\n      </g>\r\n     </g>\r\n    </g>\r\n   </g>\r\n   <g id=\"matplotlib.axis_2\">\r\n    <g id=\"ytick_1\">\r\n     <g id=\"line2d_8\">\r\n      <defs>\r\n       <path d=\"M 0 0 \r\nL -3.5 0 \r\n\" id=\"mbc03426a46\" style=\"stroke:#000000;stroke-width:0.8;\"/>\r\n      </defs>\r\n      <g>\r\n       <use style=\"stroke:#000000;stroke-width:0.8;\" x=\"38.482813\" xlink:href=\"#mbc03426a46\" y=\"500.239219\"/>\r\n      </g>\r\n     </g>\r\n     <g id=\"text_8\">\r\n      <!-- −0.6 -->\r\n      <g transform=\"translate(7.2 504.038438)scale(0.1 -0.1)\">\r\n       <use xlink:href=\"#DejaVuSans-8722\"/>\r\n       <use x=\"83.789062\" xlink:href=\"#DejaVuSans-48\"/>\r\n       <use x=\"147.412109\" xlink:href=\"#DejaVuSans-46\"/>\r\n       <use x=\"179.199219\" xlink:href=\"#DejaVuSans-54\"/>\r\n      </g>\r\n     </g>\r\n    </g>\r\n    <g id=\"ytick_2\">\r\n     <g id=\"line2d_9\">\r\n      <g>\r\n       <use style=\"stroke:#000000;stroke-width:0.8;\" x=\"38.482813\" xlink:href=\"#mbc03426a46\" y=\"418.699219\"/>\r\n      </g>\r\n     </g>\r\n     <g id=\"text_9\">\r\n      <!-- −0.4 -->\r\n      <g transform=\"translate(7.2 422.498438)scale(0.1 -0.1)\">\r\n       <use xlink:href=\"#DejaVuSans-8722\"/>\r\n       <use x=\"83.789062\" xlink:href=\"#DejaVuSans-48\"/>\r\n       <use x=\"147.412109\" xlink:href=\"#DejaVuSans-46\"/>\r\n       <use x=\"179.199219\" xlink:href=\"#DejaVuSans-52\"/>\r\n      </g>\r\n     </g>\r\n    </g>\r\n    <g id=\"ytick_3\">\r\n     <g id=\"line2d_10\">\r\n      <g>\r\n       <use style=\"stroke:#000000;stroke-width:0.8;\" x=\"38.482813\" xlink:href=\"#mbc03426a46\" y=\"337.159219\"/>\r\n      </g>\r\n     </g>\r\n     <g id=\"text_10\">\r\n      <!-- −0.2 -->\r\n      <g transform=\"translate(7.2 340.958438)scale(0.1 -0.1)\">\r\n       <use xlink:href=\"#DejaVuSans-8722\"/>\r\n       <use x=\"83.789062\" xlink:href=\"#DejaVuSans-48\"/>\r\n       <use x=\"147.412109\" xlink:href=\"#DejaVuSans-46\"/>\r\n       <use x=\"179.199219\" xlink:href=\"#DejaVuSans-50\"/>\r\n      </g>\r\n     </g>\r\n    </g>\r\n    <g id=\"ytick_4\">\r\n     <g id=\"line2d_11\">\r\n      <g>\r\n       <use style=\"stroke:#000000;stroke-width:0.8;\" x=\"38.482813\" xlink:href=\"#mbc03426a46\" y=\"255.619219\"/>\r\n      </g>\r\n     </g>\r\n     <g id=\"text_11\">\r\n      <!-- 0.0 -->\r\n      <g transform=\"translate(15.579688 259.418438)scale(0.1 -0.1)\">\r\n       <use xlink:href=\"#DejaVuSans-48\"/>\r\n       <use x=\"63.623047\" xlink:href=\"#DejaVuSans-46\"/>\r\n       <use x=\"95.410156\" xlink:href=\"#DejaVuSans-48\"/>\r\n      </g>\r\n     </g>\r\n    </g>\r\n    <g id=\"ytick_5\">\r\n     <g id=\"line2d_12\">\r\n      <g>\r\n       <use style=\"stroke:#000000;stroke-width:0.8;\" x=\"38.482813\" xlink:href=\"#mbc03426a46\" y=\"174.079219\"/>\r\n      </g>\r\n     </g>\r\n     <g id=\"text_12\">\r\n      <!-- 0.2 -->\r\n      <g transform=\"translate(15.579688 177.878438)scale(0.1 -0.1)\">\r\n       <use xlink:href=\"#DejaVuSans-48\"/>\r\n       <use x=\"63.623047\" xlink:href=\"#DejaVuSans-46\"/>\r\n       <use x=\"95.410156\" xlink:href=\"#DejaVuSans-50\"/>\r\n      </g>\r\n     </g>\r\n    </g>\r\n    <g id=\"ytick_6\">\r\n     <g id=\"line2d_13\">\r\n      <g>\r\n       <use style=\"stroke:#000000;stroke-width:0.8;\" x=\"38.482813\" xlink:href=\"#mbc03426a46\" y=\"92.539219\"/>\r\n      </g>\r\n     </g>\r\n     <g id=\"text_13\">\r\n      <!-- 0.4 -->\r\n      <g transform=\"translate(15.579688 96.338438)scale(0.1 -0.1)\">\r\n       <use xlink:href=\"#DejaVuSans-48\"/>\r\n       <use x=\"63.623047\" xlink:href=\"#DejaVuSans-46\"/>\r\n       <use x=\"95.410156\" xlink:href=\"#DejaVuSans-52\"/>\r\n      </g>\r\n     </g>\r\n    </g>\r\n    <g id=\"ytick_7\">\r\n     <g id=\"line2d_14\">\r\n      <g>\r\n       <use style=\"stroke:#000000;stroke-width:0.8;\" x=\"38.482813\" xlink:href=\"#mbc03426a46\" y=\"10.999219\"/>\r\n      </g>\r\n     </g>\r\n     <g id=\"text_14\">\r\n      <!-- 0.6 -->\r\n      <g transform=\"translate(15.579688 14.798438)scale(0.1 -0.1)\">\r\n       <use xlink:href=\"#DejaVuSans-48\"/>\r\n       <use x=\"63.623047\" xlink:href=\"#DejaVuSans-46\"/>\r\n       <use x=\"95.410156\" xlink:href=\"#DejaVuSans-54\"/>\r\n      </g>\r\n     </g>\r\n    </g>\r\n   </g>\r\n   <g id=\"patch_5\">\r\n    <path d=\"M 38.482813 500.239219 \r\nL 38.482813 10.999219 \r\n\" style=\"fill:none;stroke:#000000;stroke-linecap:square;stroke-linejoin:miter;stroke-width:0.8;\"/>\r\n   </g>\r\n   <g id=\"patch_6\">\r\n    <path d=\"M 540.682813 500.239219 \r\nL 540.682813 10.999219 \r\n\" style=\"fill:none;stroke:#000000;stroke-linecap:square;stroke-linejoin:miter;stroke-width:0.8;\"/>\r\n   </g>\r\n   <g id=\"patch_7\">\r\n    <path d=\"M 38.482813 500.239219 \r\nL 540.682813 500.239219 \r\n\" style=\"fill:none;stroke:#000000;stroke-linecap:square;stroke-linejoin:miter;stroke-width:0.8;\"/>\r\n   </g>\r\n   <g id=\"patch_8\">\r\n    <path d=\"M 38.482813 10.999219 \r\nL 540.682813 10.999219 \r\n\" style=\"fill:none;stroke:#000000;stroke-linecap:square;stroke-linejoin:miter;stroke-width:0.8;\"/>\r\n   </g>\r\n  </g>\r\n </g>\r\n <defs>\r\n  <clipPath id=\"p8813fd71d7\">\r\n   <rect height=\"489.24\" width=\"502.2\" x=\"38.482813\" y=\"10.999219\"/>\r\n  </clipPath>\r\n </defs>\r\n</svg>\r\n",
            "image/png": "[encoded data removed]"
          },
          "metadata": {
            "needs_background": "light"
          }
        }
      ]
    },
    {
      "cell_type": "markdown",
      "metadata": {
        "id": "HUyV7SaiINQ_",
        "colab_type": "text"
      },
      "source": [
        "\n",
        "\n",
        "---\n",
        "\n",
        "\n",
        "## Menghitung Luas Lingkaran dengan estimasi MC\n",
        "![alt text](https://github.com/sykrn/py-dts/blob/master/asets/persegilink.png?raw=true)\n",
        "\n",
        "### Kita bisa mengestimasi luas lingkaran dengan MC sebagai berikut.\n",
        "1. Buatlah titik-titik random sebanyak mungkin di dalam sebuah persegi yang bersinggungan dengan lingkaran yang berada di dalamnya yang akan kita hitung luasannya seperti gambar di atas.\n",
        "2. Hitunglah jumlah titik-titik yang berada di dalam lingkaran tersebut.\n",
        "3. Estimasi:\n",
        "\n",
        "$$\\frac{n_{titik-dalam-lingkaran}}{n_{total-titik}}=\\frac{Luas Lingkaran}{Luas Persegi}$$\n",
        "maka,\n",
        "$$Luas Lingkaran=\\frac{n_{titik-dalam-lingkaran}}{n_{total-titik}}\\times Luas Persegi$$\n",
        "di mana,\n",
        "$$Luas Persegi = sisi \\times sisi$$\n",
        "mudah untuk dihitung."
      ]
    },
    {
      "cell_type": "markdown",
      "metadata": {
        "id": "LFdEq_eENAXi",
        "colab_type": "text"
      },
      "source": [
        "\n",
        "\n",
        "---\n",
        "\n",
        "\n",
        "## 3. Buatlah fungsi `MCCircleArea` dengan positional argument `r` dan keyword argument dengan default `n=100` dan `center=(0,0)`, untuk menghitung luas lingkaran dengan jari-jari r dengan mengestimasi dari `n` titik random. Keluaran fungsi merupakan suatu nilai yang menunjukkan estimasi luas lingkaran tersebut.\n",
        "\n",
        "**hint:**\n",
        "1. gunakan fungsi yang sudah dibuat di atas `isPointInCircle` dan `generateRandomSquarePoints`.\n",
        "2. perhatikan gambar lingkaran dan persegi di atas, jari-jari $r$ lingkaran sama dengan setengah dari panjang sisi persegi.\n",
        "3. lingkaran dan persegi memiliki pusat yang sama.\n",
        "\n",
        "\n",
        "\n",
        "\n"
      ]
    },
    {
      "cell_type": "code",
      "metadata": {
        "id": "BQXU83rDha_0",
        "colab_type": "code",
        "colab": {}
      },
      "source": [
        "#Graded\n",
        "\n",
        "def MCCircleArea(r,n=100,center=(0,0)):\n",
        "  # MULAI KODEMU DI SINI\n",
        "  pass\n",
        "  titik = 0\n",
        "  points = generateRandomSquarePoints(n, r*2)\n",
        "  \n",
        "  for i in points:\n",
        "    if isPointInCircle(i[0], i[1], r) == True:\n",
        "      titik += 1\n",
        "  luasLingkaran = (titik / n) * r*2**2\n",
        "\n",
        "  return luasLingkaran"
      ],
      "execution_count": 3,
      "outputs": []
    },
    {
      "cell_type": "code",
      "metadata": {
        "id": "jl_xNR3OkIP2",
        "colab_type": "code",
        "colab": {}
      },
      "source": [
        "#CEK OUTPUT KODE ANDA\n",
        "\n",
        "random.seed(0)\n",
        "print(MCCircleArea(1,100),MCCircleArea(1,10,center=(10,10)))"
      ],
      "execution_count": 152,
      "outputs": [
        {
          "output_type": "stream",
          "name": "stdout",
          "text": "3.28 3.2\n"
        }
      ]
    },
    {
      "cell_type": "markdown",
      "metadata": {
        "colab_type": "text",
        "id": "eHwlg-ZIQg4I"
      },
      "source": [
        "### Expected output:\n",
        "```\n",
        "3.28 3.2\n",
        " ```"
      ]
    },
    {
      "cell_type": "markdown",
      "metadata": {
        "id": "7q-ib2r-SW5h",
        "colab_type": "text"
      },
      "source": [
        "\n",
        "\n",
        "---\n",
        "## Estimasi $\\pi$\n",
        "\n",
        "### Luas lingkaran\n",
        "$$Luas = \\pi r^2$$\n",
        "\n",
        "sehingga untuk mengestimasi nilai $\\pi$ sama dengan mengestimasi luas lingkaran dengan jari-jari $r=1$.\n",
        "\n",
        "### Law of large numbers (LLN)\n",
        "merupakan hukum statistik dimana kita bisa menghitung nilai rata-rata dari suatu distribusi atau bahkan standar deviasinya dengan menggunakan banyak sampel. LLN umum digunakan di dalam metode MC.\n",
        "\n",
        "Penjelasan mudahnya: Semakin banyak sampel semakin akurat untuk menghitung rata-rata atau nilai mean-nya. \n",
        "\n",
        "### Estimasi $\\pi$ lebih akurat dengan LLN\n",
        "1. Estimasi luas lingkaran dengan jari-jari satu dengan menggunakan sejumlah titik-titik random.\n",
        "2. lakukan sebanyak mungkin langkah 1.\n",
        "3. ambil nilai rata-ratanya, yaitu $\\mu = \\sum x/n$, yang merupakan estimasi akhir dari metode MC.\n",
        "\n",
        "\n"
      ]
    },
    {
      "cell_type": "markdown",
      "metadata": {
        "id": "zImtpxHuUUoQ",
        "colab_type": "text"
      },
      "source": [
        "## 4. Buatlah fungsi `LLNPiMC` untuk mengestimasi nilai `pi` dengan positional argumen `nsim` dan `nsample`. `nsample` merupakan jumlah sample titik-titik random untuk menghitung luas lingkaran berjari-jari 1 (maka Luas = $\\pi$) dan `nsim` merupakan jumlah simulasi untuk menghitung nilai rata-rata atau mean dari estimasi nilai $\\pi$. Keluaran fungsi merupakan nilai mean dari simulasi tersebut (estimasi nilai $\\pi$)."
      ]
    },
    {
      "cell_type": "code",
      "metadata": {
        "id": "MH_JdQvTkKb_",
        "colab_type": "code",
        "colab": {}
      },
      "source": [
        "#Graded\n",
        "\n",
        "def LLNPiMC(nsim,nsample):\n",
        "  # MULAI KODEMU DI SINI\n",
        "  pass\n",
        "  totalSim = 0\n",
        "  for i in range(nsim):\n",
        "    totalSim += MCCircleArea(1,nsample)\n",
        "  rataSim = totalSim / nsim\n",
        "\n",
        "  return rataSim"
      ],
      "execution_count": 10,
      "outputs": []
    },
    {
      "cell_type": "code",
      "metadata": {
        "id": "MP3BGDqaXiI2",
        "colab_type": "code",
        "colab": {},
        "tags": [
          "outputPrepend",
          "outputPrepend",
          "outputPrepend",
          "outputPrepend",
          "outputPrepend",
          "outputPrepend",
          "outputPrepend",
          "outputPrepend",
          "outputPrepend",
          "outputPrepend",
          "outputPrepend",
          "outputPrepend",
          "outputPrepend",
          "outputPrepend",
          "outputPrepend",
          "outputPrepend",
          "outputPrepend",
          "outputPrepend",
          "outputPrepend",
          "outputPrepend",
          "outputPrepend",
          "outputPrepend",
          "outputPrepend",
          "outputPrepend",
          "outputPrepend",
          "outputPrepend",
          "outputPrepend",
          "outputPrepend",
          "outputPrepend",
          "outputPrepend",
          "outputPrepend",
          "outputPrepend",
          "outputPrepend",
          "outputPrepend",
          "outputPrepend",
          "outputPrepend",
          "outputPrepend",
          "outputPrepend",
          "outputPrepend",
          "outputPrepend",
          "outputPrepend",
          "outputPrepend",
          "outputPrepend",
          "outputPrepend",
          "outputPrepend",
          "outputPrepend",
          "outputPrepend",
          "outputPrepend",
          "outputPrepend",
          "outputPrepend",
          "outputPrepend",
          "outputPrepend",
          "outputPrepend",
          "outputPrepend",
          "outputPrepend",
          "outputPrepend",
          "outputPrepend",
          "outputPrepend",
          "outputPrepend",
          "outputPrepend",
          "outputPrepend",
          "outputPrepend",
          "outputPrepend",
          "outputPrepend",
          "outputPrepend",
          "outputPrepend",
          "outputPrepend",
          "outputPrepend",
          "outputPrepend",
          "outputPrepend",
          "outputPrepend",
          "outputPrepend",
          "outputPrepend",
          "outputPrepend",
          "outputPrepend",
          "outputPrepend",
          "outputPrepend",
          "outputPrepend"
        ]
      },
      "source": [
        "#CEK OUTPUT KODE ANDA\n",
        "\n",
        "import math\n",
        "\n",
        "random.seed(0)\n",
        "estpi = LLNPiMC(10000,500)\n",
        "\n",
        "print('est_pi:',estpi)\n",
        "print('act_pi:',math.pi)"
      ],
      "execution_count": 11,
      "outputs": [
        {
          "output_type": "stream",
          "name": "stdout",
          "text": "est_pi: 3.1416055999999823\nact_pi: 3.141592653589793\n"
        }
      ]
    },
    {
      "cell_type": "markdown",
      "metadata": {
        "colab_type": "text",
        "id": "UKExZc1EXsBr"
      },
      "source": [
        "### Expected output:\n",
        "```\n",
        "est_pi: 3.1416055999999823\n",
        "act_pi: 3.141592653589793\n",
        " ```"
      ]
    },
    {
      "cell_type": "markdown",
      "metadata": {
        "id": "92LZvAY2Yhhu",
        "colab_type": "text"
      },
      "source": [
        "## Menghitung error relatif\n",
        "\n",
        "$$E = \\|\\frac{estimasi-aktual}{aktual}\\|\\times 100$$\n",
        "\n",
        "$\\|\\dots\\|$ merupakan nilai absolut atau mutlak (selalu positif)."
      ]
    },
    {
      "cell_type": "markdown",
      "metadata": {
        "id": "coUe9JSm-6Lf",
        "colab_type": "text"
      },
      "source": [
        "## 5. Buatlah fungsi `relativeError`, dengan argument `act` yang merupakan nilai aktual, dan `est` yang merupakan nilai estimasi."
      ]
    },
    {
      "cell_type": "code",
      "metadata": {
        "id": "fh2-4YkAeti-",
        "colab_type": "code",
        "colab": {}
      },
      "source": [
        "# Graded\n",
        "def relativeError(act,est):\n",
        "  \n",
        "  # MULAI KODEMU DI SINI\n",
        "  pass\n",
        "  e = abs((est - act) / act) * 100\n",
        "\n",
        "  return e"
      ],
      "execution_count": 18,
      "outputs": []
    },
    {
      "cell_type": "code",
      "metadata": {
        "id": "797vk8LdlYUq",
        "colab_type": "code",
        "colab": {}
      },
      "source": [
        "#CEK OUTPUT KODE ANDA\n",
        "print('error relatif:',relativeError(math.pi,estpi),'%')"
      ],
      "execution_count": 19,
      "outputs": [
        {
          "output_type": "stream",
          "name": "stdout",
          "text": "error relatif: 0.0004120970353822341 %\n"
        }
      ]
    },
    {
      "cell_type": "markdown",
      "metadata": {
        "colab_type": "text",
        "id": "32v0QsumRcHH"
      },
      "source": [
        "### Expected output:\n",
        "```\n",
        "error relatif: 0.0004120970353822341 %\n",
        " ```"
      ]
    },
    {
      "cell_type": "markdown",
      "metadata": {
        "id": "BYqKtNpcBS5K",
        "colab_type": "text"
      },
      "source": [
        "# Cara Submit\n",
        "0. Isikan variable priority dengan nilai yang lebih besar dari submisi sebelumnya untuk revisi.\n",
        "1. Tuliskan email akun netacad anda di variable email (tentunya dengan tanda kutip) \n",
        "2. Copy-paste **SEMUA** cell yang ada komentar `#Graded` ke cell code di bawah ini.\n",
        "3. Simpan kode tersebut sebagai p2.py\n",
        "4. Submit file ke google form berikut: https://forms.gle/oVt17KbpFwQvTmG2A\n",
        "5. Pengisian form membutuhkan anda login ke akun google anda.\n",
        "\n"
      ]
    },
    {
      "cell_type": "code",
      "metadata": {
        "id": "1DRcA1UmBXLT",
        "colab_type": "code",
        "colab": {}
      },
      "source": [
        "# nama file p2.py \n",
        "# Isikan email anda dan copy semua cell code yang dengan komentar #Graded\n",
        "\n",
        "# untuk revisi dan resubmisi sebelum deadline\n",
        "# silakan di resubmit dengan nilai variable priority yang lebih besar dari\n",
        "# nilai priority submisi sebelumnya\n",
        "# JIKA TIDAK ADA VARIABLE priority DIANGGAP priority=0\n",
        "priority = 0\n",
        "\n",
        "#netacad email cth: 'abcd@gmail.com'\n",
        "email=''\n",
        " \n",
        "# copy-paste semua #Graded cells YANG SUDAH ANDA KERJAKAN di bawah ini"
      ],
      "execution_count": 0,
      "outputs": []
    }
  ],
  "metadata": {
    "colab": {
      "name": "Project 2 -  Monte carlo simulation.ipynb",
      "provenance": [],
      "collapsed_sections": []
    },
    "kernelspec": {
      "name": "python38232bita9e04b1eec964061adb804061cedb5d6",
      "display_name": "Python 3.8.2 32-bit"
    }
  },
  "nbformat": 4,
  "nbformat_minor": 0
}