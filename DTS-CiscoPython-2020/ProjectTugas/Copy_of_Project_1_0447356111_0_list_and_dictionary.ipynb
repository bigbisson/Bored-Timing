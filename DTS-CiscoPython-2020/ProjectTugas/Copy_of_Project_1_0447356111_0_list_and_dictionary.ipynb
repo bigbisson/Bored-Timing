{
  "cells": [
    {
      "cell_type": "markdown",
      "metadata": {
        "id": "PmdKYwW_NUjc",
        "colab_type": "text"
      },
      "source": [
        "# Project 1 - Working with list and dictionary \n",
        "## (DEADLINE: 06.00 WIB 8 JUNI 2020)\n",
        "Pada project ini peserta pelatihan python akan membuat code-code untuk mengolah `list` dan `dictionary` \n",
        "\n",
        "Project items yang dibutuhkan:\n",
        "- Pemahaman dan pembuatan `fungsi`, `variabel`, dan `tipe data`\n",
        "- pemahaman `list` dan `dictionary`\n",
        "- logika dasar pemrograman\n",
        "\n",
        "**Note: Tidak diperkenankan untuk menggunakan library/module lain, kecuali disediakan atau didefinisikan**\n",
        "\n",
        ">>**BOLEH BERDISKUSI TANPA MEMBERIKAN JAWABAN!!!**\n",
        "\n"
      ]
    },
    {
      "cell_type": "markdown",
      "metadata": {
        "id": "wmfagSdvOz6m",
        "colab_type": "text"
      },
      "source": [
        "### 1. Buatlah fungsi `letter_catalog` dengan sebuah positional argument berupa list dan keyword argument `letter` untuk nilai default 'A'. Fungsi `letter_catalog` akan mengembalikan sebuah list yang berisi nama-nama buah yang dimulai dengan huruf yang ada keyword argument `letter`. Jika tidak ada item di list inputan tersebut yang diawali dengan huruf yang didefinisikan di keyword `letter` maka fungsi mengembalikan list kosong.\n",
        "\n"
      ]
    },
    {
      "cell_type": "code",
      "metadata": {
        "id": "SZJw59BEO-fd",
        "colab_type": "code",
        "colab": {}
      },
      "source": [
        "#Graded\n",
        "\n",
        "def letter_catalog(items,letter='A'):\n",
        "  pass\n",
        "  # MULAI KODEMU DI SINI\n",
        "  l = []\n",
        "  items = sorted(items)\n",
        "  for n in items:\n",
        "    if n[0].lower() == letter.lower():\n",
        "      l.append(n)\n",
        "  print(l)"
      ],
      "execution_count": 20,
      "outputs": []
    },
    {
      "cell_type": "code",
      "metadata": {
        "id": "7fQUkRXl0zCa",
        "colab_type": "code",
        "outputId": "7e48bb16-cd6b-4f1d-f78a-8b10dc6c5cbd",
        "colab": {
          "base_uri": "https://localhost:8080/",
          "height": 34
        }
      },
      "source": [
        "# Cek output kode anda\n",
        "letter_catalog(['Apple','Avocado','Banana','Blackberries','Blueberries','Cherries'],letter='A')"
      ],
      "execution_count": 21,
      "outputs": [
        {
          "output_type": "stream",
          "name": "stdout",
          "text": "['Apple', 'Avocado']\n"
        }
      ]
    },
    {
      "cell_type": "markdown",
      "metadata": {
        "id": "1_Va_bPq0_r1",
        "colab_type": "text"
      },
      "source": [
        "Expected output:\n",
        "```\n",
        "['Apple', 'Avocado']\n",
        "```"
      ]
    },
    {
      "cell_type": "markdown",
      "metadata": {
        "id": "1plym_6cJTmH",
        "colab_type": "text"
      },
      "source": [
        "### 2. Buatlah list `counter_item` yang memiliki sebuah input argument berupa list. Fungsi ini mengembalikan sebuah dictionary yang menghitung jumlah buah dalam list input, dengan `key` berupa nama buah tersebut dan `value` berupa jumlah nama buah tersebut muncul di list input. "
      ]
    },
    {
      "cell_type": "code",
      "metadata": {
        "id": "xZCCOKQIve9d",
        "colab_type": "code",
        "colab": {}
      },
      "source": [
        "#Graded\n",
        "\n",
        "def counter_item(items):\n",
        "  pass\n",
        "  # MULAI KODEMU DI SINI\n",
        "  l = {}\n",
        "  items = sorted(items)\n",
        "  for n in items:\n",
        "    if n in l:\n",
        "      l[n] += 1\n",
        "    else:\n",
        "      l[n] = 1\n",
        "  return l"
      ],
      "execution_count": 3,
      "outputs": []
    },
    {
      "cell_type": "code",
      "metadata": {
        "id": "KfxtWsNj1S19",
        "colab_type": "code",
        "outputId": "45d2043b-0f4c-4575-e77d-2ef66888e728",
        "colab": {
          "base_uri": "https://localhost:8080/",
          "height": 34
        }
      },
      "source": [
        "# Cek output kode anda\n",
        "counter_item(['Apple','Apple','Apple','Blueberries','Blueberries','Blueberries'])"
      ],
      "execution_count": 4,
      "outputs": [
        {
          "output_type": "execute_result",
          "data": {
            "text/plain": "{'Apple': 3, 'Blueberries': 3}"
          },
          "metadata": {},
          "execution_count": 4
        }
      ]
    },
    {
      "cell_type": "markdown",
      "metadata": {
        "id": "qSh_3MqK1HkK",
        "colab_type": "text"
      },
      "source": [
        "Expected output:\n",
        "```\n",
        "{'Apple': 3, 'Blueberries': 3}\n",
        "```"
      ]
    },
    {
      "cell_type": "markdown",
      "metadata": {
        "id": "RQ5u4YdFKqcL",
        "colab_type": "text"
      },
      "source": [
        "### 3. Di bawah ini sudah ada tiga variables `fruits`, `prices`, dan `chart`. \n",
        "- Buatlah sebuah dictionary yang berupa daftar harga buah dengan `key` berupa nama buah di variable `fruits` dan dengan `value` berupa harga dari buah tersebut di variable `price` (sudah diurutkan sesuai dengan nama-nama buah di varibale `fruits`, kemudian Dictionary tersebut disimpan di dalam variable `fruit_price`.\n",
        "- Selanjutnya, Buatlah fungsi `total_price` dengan dua input yaitu: 1) dictionary yang merupakan keluaran dari fungsi `counter_item` dan 2) dictionary harga buah  `fruit_price`. Fungsi ini mengeluarkan sebuah total harga dari daftar buah di dictionary keluaran dari `counter_item`.\n",
        "\n",
        "**Hint**: Gunakan fungsi `counter_item` di soal nomor 2."
      ]
    },
    {
      "cell_type": "code",
      "metadata": {
        "id": "IfdaUhaxwWNA",
        "colab_type": "code",
        "colab": {}
      },
      "source": [
        "#Graded\n",
        "\n",
        "# dua variable berikut jangan diubah\n",
        "fruits = ['Apple','Avocado','Banana','Blackberries','Blueberries','Cherries','Date Fruit','Grapes','Guava','Jackfruit','Kiwifruit']\n",
        "prices = [6,5,3,10,12,7,14,15,8,7,9]\n",
        "\n",
        "# list buah\n",
        "chart = ['Blueberries','Blueberries','Grapes','Apple','Apple','Apple','Blueberries','Guava','Jackfruit','Blueberries','Jackfruit']\n",
        "\n",
        "# MULAI KODEMU DI SINI\n",
        "fruit_price = dict(zip(fruits, prices))\n",
        "\n",
        "def total_price(dcounter,fprice):\n",
        "  pass\n",
        "  # MULAI KODEMU DI SINI\n",
        "  total = 0\n",
        "  for x in dcounter:\n",
        "    if x in fprice:\n",
        "      total += dcounter[x] * fprice[x]\n",
        "  \n",
        "  return total"
      ],
      "execution_count": 5,
      "outputs": []
    },
    {
      "cell_type": "code",
      "metadata": {
        "id": "xW14Y6f41b8e",
        "colab_type": "code",
        "outputId": "d94542a1-cf52-4b2c-b206-59649520f4bb",
        "colab": {
          "base_uri": "https://localhost:8080/",
          "height": 34
        }
      },
      "source": [
        "# Cek output kode anda\n",
        "total_price(counter_item(chart),fruit_price)"
      ],
      "execution_count": 6,
      "outputs": [
        {
          "output_type": "execute_result",
          "data": {
            "text/plain": "103"
          },
          "metadata": {},
          "execution_count": 6
        }
      ]
    },
    {
      "cell_type": "markdown",
      "metadata": {
        "id": "pbcpTPNo1LYW",
        "colab_type": "text"
      },
      "source": [
        "Expected output:\n",
        "```\n",
        "103\n",
        "```"
      ]
    },
    {
      "cell_type": "markdown",
      "metadata": {
        "id": "U5VzcIs5R-MJ",
        "colab_type": "text"
      },
      "source": [
        "### 4. Buatlah fungsi `discounted_price` dengan dua positional arguments input dari keluaran fungsi totalprice dan discount dalam persen(80 berarti 80%, dst), dan satu keyword argument `minprice` yang menunjukkan hanya dengan minimum price tersebut yang hanya di-discount, set default value `minprice` ke 100. Fungsi tersebut menghitung nilai harga akhir setelah di-discount sebesar discount variable (argument kedua). Untuk harga total yang kurang dari `minprice` maka keluarannya sama dengan harga total tersebut tanpa discount."
      ]
    },
    {
      "cell_type": "code",
      "metadata": {
        "id": "aHDCFfNQzUzC",
        "colab_type": "code",
        "colab": {
          "base_uri": "https://localhost:8080/",
          "height": 132
        },
        "outputId": "6b1339ef-fc66-42a4-d25e-f57d4f23a59f"
      },
      "source": [
        "def discounted_price(total, discount, minprice=100):\n",
        "    pass\n",
        "    # MULAI KODEMU DI SINI\n",
        "    sum = 0\n",
        "    if total < minprice:\n",
        "        sum = total\n",
        "    else:\n",
        "        sum = total - (total * discount / 100)\n",
        "\n",
        "    return sum"
      ],
      "execution_count": 13,
      "outputs": []
    },
    {
      "cell_type": "code",
      "metadata": {
        "id": "yNhIwaAZ1lzX",
        "colab_type": "code",
        "colab": {
          "base_uri": "https://localhost:8080/",
          "height": 185
        },
        "outputId": "ea3c1cd2-0ac5-498d-b5e9-f67c9d8f2bc7"
      },
      "source": [
        "# Cek output kode anda\n",
        "discounted_price(total_price(counter_item(chart),fruit_price),10,minprice=100)\n"
      ],
      "execution_count": 14,
      "outputs": [
        {
          "output_type": "execute_result",
          "data": {
            "text/plain": "92.7"
          },
          "metadata": {},
          "execution_count": 14
        }
      ]
    },
    {
      "cell_type": "markdown",
      "metadata": {
        "id": "cweITli-1Mhp",
        "colab_type": "text"
      },
      "source": [
        "Expected output:\n",
        "```\n",
        "92.7\n",
        "```"
      ]
    },
    {
      "cell_type": "markdown",
      "metadata": {
        "id": "wFj8-NVV3Zh1",
        "colab_type": "text"
      },
      "source": [
        "### 5. Buatlah fungsi `print_summary` dengan 2 posisional argument input, list nama2 buah (cth: seperti variable `chart`) dan dictionary harga buah (cth: seperti variable `fruit_price`, yang mengeluarkan tulisan ringakasan dari pembelian buah seperti berikut ini.\n",
        "\n",
        "cth keluaran:\n",
        "```\n",
        "3 Apple : 18\n",
        "4 Blueberries : 48\n",
        "1 Grapes : 15\n",
        "1 Guava : 8\n",
        "2 Jackfruit : 14\n",
        "total : 103\n",
        "discount price : 92.7\n",
        "```\n",
        "dengan format `jumlahbuah`\\<spasi\\>`namabuah`\\<spasi\\>`totalhargabuah\\n` dengan nama nama buah berurutan sesuai abjad `ascending`, kemudian diikuti total harga semuanya dan discount price dengan besaran 10% dengan minimum harga pembelian 100.\n",
        "\n",
        "**Note**: dipisahkan hanya satu spasi. Output harus sama dengan contoh diatas untuk pemanggilan fungsi berikut ini.\n",
        "```\n",
        "print_summary(chart,fruit_price)\n",
        "```\n",
        "\n",
        "\n",
        "\n",
        "\n"
      ]
    },
    {
      "cell_type": "code",
      "metadata": {
        "id": "zXQzarsv1_bS",
        "colab_type": "code",
        "colab": {}
      },
      "source": [
        "#Graded\n",
        "\n",
        "def print_summary(items, fprice):\n",
        "    pass\n",
        "    # MULAI KODEMU DI SINI\n",
        "    count = counter_item(items)\n",
        "    totalHarga = {}\n",
        "    for x in count:\n",
        "        if x in fprice:\n",
        "            totalHarga[x] = count[x] * fprice[x]\n",
        "\n",
        "    totalHargabuah = total_price(count, fprice)\n",
        "    discountTotal = 10\n",
        "    minprice = 100\n",
        "\n",
        "    for x in count:\n",
        "        print(count[x], x, ':', totalHarga[x])\n",
        "    print('total :', totalHargabuah)\n",
        "    print('discount price :', discounted_price(totalHargabuah, discountTotal, minprice))"
      ],
      "execution_count": 17,
      "outputs": []
    },
    {
      "cell_type": "code",
      "metadata": {
        "id": "lh0v-YiH1w24",
        "colab_type": "code",
        "colab": {}
      },
      "source": [
        "# Cek output kode anda\n",
        "print_summary(chart,fruit_price)\n",
        "  "
      ],
      "execution_count": 18,
      "outputs": [
        {
          "output_type": "stream",
          "name": "stdout",
          "text": "3 Apple : 18\n4 Blueberries : 48\n1 Grapes : 15\n1 Guava : 8\n2 Jackfruit : 14\ntotal : 103\ndiscount price : 92.7\n"
        }
      ]
    },
    {
      "cell_type": "markdown",
      "metadata": {
        "id": "UroVZiY51Oqk",
        "colab_type": "text"
      },
      "source": [
        "Expected output:\n",
        "```\n",
        "3 Apple : 18\n",
        "4 Blueberries : 48\n",
        "1 Grapes : 15\n",
        "1 Guava : 8\n",
        "2 Jackfruit : 14\n",
        "total : 103\n",
        "discount price : 92.7\n",
        "```"
      ]
    },
    {
      "cell_type": "markdown",
      "metadata": {
        "id": "WoJFPIBvwg8L",
        "colab_type": "text"
      },
      "source": [
        "# Cara Submit\n",
        "1. Tuliskan email akun netacad anda di variable email (tentunya dengan tanda kutip) \n",
        "2. Copy-paste **SEMUA** cell yang ada komentar `#Graded` ke cell code di bawah ini.\n",
        "3. Simpan kode tersebut sebagai p1.py\n",
        "4. Submit file ke google form berikut: https://forms.gle/6AQ8BYM8UoMK7kJg6\n",
        "5. Pengisian form membutuhkan anda login ke akun google anda.\n",
        "\n"
      ]
    },
    {
      "cell_type": "code",
      "metadata": {
        "id": "V1eLQuC9xgZ-",
        "colab_type": "code",
        "colab": {}
      },
      "source": [
        "# nama file p1.py\n",
        "# Isikan nama anda dan copy semua cell code yang dengan komentar #Graded\n",
        "\n",
        "# netacad email cth: 'abcd@gmail.com'\n",
        "email = 'bigmasterindra@yahoo.com'\n",
        "# name : Indra Nurwibisono\n",
        "\n",
        "# copy-paste semua #Graded cells YANG SUDAH ANDA KERJAKAN di bawah ini\n",
        "\n",
        "# Graded\n",
        "\n",
        "\n",
        "def letter_catalog(items, letter='A'):\n",
        "    pass\n",
        "    # MULAI KODEMU DI SINI\n",
        "    l = []\n",
        "    items = sorted(items)\n",
        "    for n in range(len(items)):\n",
        "        if items[n][0].lower() == letter.lower():\n",
        "            l.append(items[n])\n",
        "    print(l)\n",
        "\n",
        "# Graded\n",
        "\n",
        "\n",
        "def counter_item(items):\n",
        "    pass\n",
        "    # MULAI KODEMU DI SINI\n",
        "    l = {}\n",
        "    items = sorted(items)\n",
        "    for n in items:\n",
        "        if n in l:\n",
        "            l[n] += 1\n",
        "        else:\n",
        "            l[n] = 1\n",
        "    return l\n",
        "\n",
        "# Graded\n",
        "\n",
        "\n",
        "# dua variable berikut jangan diubah\n",
        "fruits = ['Apple', 'Avocado', 'Banana', 'Blackberries', 'Blueberries',\n",
        "          'Cherries', 'Date Fruit', 'Grapes', 'Guava', 'Jackfruit', 'Kiwifruit']\n",
        "prices = [6, 5, 3, 10, 12, 7, 14, 15, 8, 7, 9]\n",
        "\n",
        "# list buah\n",
        "chart = ['Blueberries', 'Blueberries', 'Grapes', 'Apple', 'Apple',\n",
        "         'Apple', 'Blueberries', 'Guava', 'Jackfruit', 'Blueberries', 'Jackfruit']\n",
        "\n",
        "# MULAI KODEMU DI SINI\n",
        "fruit_price = dict(zip(fruits, prices))\n",
        "\n",
        "\n",
        "def total_price(dcounter, fprice):\n",
        "    pass\n",
        "    # MULAI KODEMU DI SINI\n",
        "    totalHarga = {}\n",
        "    for x in dcounter:\n",
        "        if x in fprice:\n",
        "            totalHarga[x] = dcounter[x] * fprice[x]\n",
        "\n",
        "    return sum(totalHarga.values())\n",
        "\n",
        "# Graded\n",
        "\n",
        "\n",
        "def discounted_price(total, discount, minprice=100):\n",
        "    pass\n",
        "    # MULAI KODEMU DI SINI\n",
        "    sum = 0\n",
        "    if total < minprice:\n",
        "        sum = total\n",
        "    else:\n",
        "        sum = total - (total * discount / 100)\n",
        "\n",
        "    return sum\n",
        "\n",
        "# Graded\n",
        "\n",
        "\n",
        "def print_summary(items, fprice):\n",
        "    pass\n",
        "    # MULAI KODEMU DI SINI\n",
        "    count = counter_item(items)\n",
        "    totalHarga = {}\n",
        "    for x in count:\n",
        "        if x in fprice:\n",
        "            totalHarga[x] = count[x] * fprice[x]\n",
        "\n",
        "    totalHargabuah = total_price(count, fprice)\n",
        "    discountTotal = 10\n",
        "    minprice = 100\n",
        "\n",
        "    # Output\n",
        "    for x in count:\n",
        "        print(count[x], x, ':', totalHarga[x])\n",
        "    print('total :', totalHargabuah)\n",
        "    print('discount price :', discounted_price(totalHargabuah, discountTotal, minprice))"
      ],
      "execution_count": 2,
      "outputs": []
    },
    {
      "cell_type": "code",
      "execution_count": 3,
      "metadata": {},
      "outputs": [
        {
          "output_type": "stream",
          "name": "stdout",
          "text": "3 Apple : 18\n4 Blueberries : 48\n1 Grapes : 15\n1 Guava : 8\n2 Jackfruit : 14\ntotal : 103\ndiscount price : 92.7\n"
        }
      ],
      "source": [
        "print_summary(chart,fruit_price)"
      ]
    },
    {
      "cell_type": "code",
      "execution_count": null,
      "metadata": {},
      "outputs": [],
      "source": []
    }
  ],
  "metadata": {
    "colab": {
      "name": "Copy of Project 1 - 0447356111-0 - list and dictionary.ipynb",
      "provenance": [],
      "collapsed_sections": []
    },
    "kernelspec": {
      "name": "python38232bita9e04b1eec964061adb804061cedb5d6",
      "display_name": "Python 3.8.2 32-bit"
    }
  },
  "nbformat": 4,
  "nbformat_minor": 0
}