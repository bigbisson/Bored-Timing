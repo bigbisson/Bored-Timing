{
 "cells": [
  {
   "cell_type": "code",
   "execution_count": 2,
   "metadata": {},
   "outputs": [
    {
     "output_type": "stream",
     "name": "stdout",
     "text": "You've successfully left the loop.\n"
    }
   ],
   "source": [
    "n = input(\"You're in trap loop, say the word: \")\n",
    "\n",
    "while n != \"chupacabra\":\n",
    "    n = input(\"Wrong! Say again: \")\n",
    "    if n == \"chupacabra\":break\n",
    "print(\"You've successfully left the loop.\")"
   ]
  },
  {
   "cell_type": "code",
   "execution_count": 6,
   "metadata": {},
   "outputs": [
    {
     "output_type": "stream",
     "name": "stdout",
     "text": "S\nY\n \nB\nD\n"
    }
   ],
   "source": [
    "# 3.1.2.10\n",
    "n = input(\"Enter a word: \")\n",
    "userWord = n.upper()\n",
    "vocal = (\"A\", \"I\", \"U\", \"E\", \"O\")\n",
    "\n",
    "for i in userWord:\n",
    "    if i in vocal:\n",
    "        continue\n",
    "    print(i)\n"
   ]
  },
  {
   "cell_type": "code",
   "execution_count": 9,
   "metadata": {},
   "outputs": [
    {
     "output_type": "stream",
     "name": "stdout",
     "text": "GRGRY\n"
    }
   ],
   "source": [
    "# 3.1.2.11\n",
    "wordWithoutVovels = \"\"\n",
    "vocal = (\"A\", \"I\", \"U\", \"E\", \"O\")\n",
    "\n",
    "n = input(\"Enter a word: \")\n",
    "userWord = n.upper()\n",
    "\n",
    "for i in userWord:\n",
    "    if i in vocal:\n",
    "        continue\n",
    "    wordWithoutVovels += i\n",
    "\n",
    "print(wordWithoutVovels)"
   ]
  },
  {
   "cell_type": "code",
   "execution_count": 45,
   "metadata": {},
   "outputs": [
    {
     "output_type": "stream",
     "name": "stdout",
     "text": "The height of the pyramid: 44\n"
    }
   ],
   "source": [
    "# 3.1.2.14\n",
    "blocks = int(input(\"Enter the number of blocks: \"))\n",
    "height = 0\n",
    "i = 0\n",
    "\n",
    "while blocks > 1:\n",
    "    i += 1\n",
    "    blocks = blocks - i\n",
    "    if blocks < 0:\n",
    "        break\n",
    "    height += 1\n",
    "    \n",
    "\n",
    "print(\"The height of the pyramid:\", height)"
   ]
  },
  {
   "cell_type": "code",
   "execution_count": 18,
   "metadata": {},
   "outputs": [
    {
     "output_type": "stream",
     "name": "stdout",
     "text": "3070\n1535\n4606\n2303\n6910\n3455\n10366\n5183\n15550\n7775\n23326\n11663\n34990\n17495\n52486\n26243\n78730\n39365\n118096\n59048\n29524\n14762\n7381\n22144\n11072\n5536\n2768\n1384\n692\n346\n173\n520\n260\n130\n65\n196\n98\n49\n148\n74\n37\n112\n56\n28\n14\n7\n22\n11\n34\n17\n52\n26\n13\n40\n20\n10\n5\n16\n8\n4\n2\n1\nsteps = 62\n"
    }
   ],
   "source": [
    "# 3.1.2.15\n",
    "c0 = int(input())\n",
    "steps = 0\n",
    "\n",
    "while c0 > 0:\n",
    "    if c0 == 1:\n",
    "        break\n",
    "    elif (c0 % 2) == 0:\n",
    "        c0 = int(c0 / 2)\n",
    "        print(c0)\n",
    "        steps += 1\n",
    "    else:\n",
    "        c0 = int((3 * c0) + 1)\n",
    "        print(c0)\n",
    "        steps += 1\n",
    "\n",
    "print(\"steps =\", steps)"
   ]
  },
  {
   "cell_type": "code",
   "execution_count": null,
   "metadata": {},
   "outputs": [],
   "source": []
  }
 ],
 "metadata": {
  "language_info": {
   "codemirror_mode": {
    "name": "ipython",
    "version": 3
   },
   "file_extension": ".py",
   "mimetype": "text/x-python",
   "name": "python",
   "nbconvert_exporter": "python",
   "pygments_lexer": "ipython3",
   "version": "3.8.2-final"
  },
  "orig_nbformat": 2,
  "kernelspec": {
   "name": "python38264bit8ef9f516f56245a8ae1ecc18fd1583b7",
   "display_name": "Python 3.8.2 64-bit"
  }
 },
 "nbformat": 4,
 "nbformat_minor": 2
}