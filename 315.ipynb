{
 "cells": [
  {
   "cell_type": "code",
   "execution_count": 2,
   "metadata": {},
   "outputs": [
    {
     "output_type": "stream",
     "name": "stdout",
     "text": "[2, 4, 6, 8, 10]\n"
    }
   ],
   "source": [
    "# Basic bubble sort\n",
    "myList = [8, 10, 6, 2, 4] # list to sort\n",
    "swapped = True # it's a little fake - we need it to enter the while loop\n",
    "\n",
    "while swapped:\n",
    "    swapped = False # no swaps so far\n",
    "    for i in range(len(myList) - 1):\n",
    "        if myList[i] > myList[i + 1]:\n",
    "            swapped = True # swap occured!\n",
    "            myList[i], myList[i + 1] = myList[i + 1], myList[i]\n",
    "\n",
    "print(myList)"
   ]
  }
 ],
 "metadata": {
  "language_info": {
   "codemirror_mode": {
    "name": "ipython",
    "version": 3
   },
   "file_extension": ".py",
   "mimetype": "text/x-python",
   "name": "python",
   "nbconvert_exporter": "python",
   "pygments_lexer": "ipython3",
   "version": "3.8.2-final"
  },
  "orig_nbformat": 2,
  "kernelspec": {
   "name": "python38264bit8ef9f516f56245a8ae1ecc18fd1583b7",
   "display_name": "Python 3.8.2 64-bit"
  }
 },
 "nbformat": 4,
 "nbformat_minor": 2
}