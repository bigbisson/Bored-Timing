{
 "cells": [
  {
   "cell_type": "code",
   "execution_count": 2,
   "metadata": {},
   "outputs": [
    {
     "output_type": "stream",
     "name": "stdout",
     "text": "Leap year\n"
    }
   ],
   "source": [
    "year = int(input(\"Enter a year: \"))\n",
    "\n",
    "#\n",
    "# Put your code here.\n",
    "#\n",
    "if year >=1582:\n",
    "    if (year % 4) != 0:\n",
    "        print(\"Common year\")\n",
    "    elif (year % 100) != 0:\n",
    "        print(\"Leap year\")\n",
    "    elif (year % 400) != 0:\n",
    "        print(\"Common year\")\n",
    "    else:\n",
    "        print(\"Leap year\")\n",
    "else:\n",
    "    print(\"Not within the Gregorian calendar period\")"
   ]
  },
  {
   "cell_type": "code",
   "execution_count": null,
   "metadata": {},
   "outputs": [],
   "source": []
  }
 ],
 "metadata": {
  "language_info": {
   "codemirror_mode": {
    "name": "ipython",
    "version": 3
   },
   "file_extension": ".py",
   "mimetype": "text/x-python",
   "name": "python",
   "nbconvert_exporter": "python",
   "pygments_lexer": "ipython3",
   "version": "3.8.2-final"
  },
  "orig_nbformat": 2,
  "kernelspec": {
   "name": "python38264bit8ef9f516f56245a8ae1ecc18fd1583b7",
   "display_name": "Python 3.8.2 64-bit"
  }
 },
 "nbformat": 4,
 "nbformat_minor": 2
}