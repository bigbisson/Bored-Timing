{
 "cells": [
  {
   "cell_type": "code",
   "execution_count": 1,
   "metadata": {},
   "outputs": [
    {
     "output_type": "stream",
     "name": "stdout",
     "text": "1 Mississippi\n2 Mississippi\n3 Mississippi\n4 Mississippi\n5 Mississippi\nReady or not, here I come!\n"
    }
   ],
   "source": [
    "import time\n",
    "\n",
    "# Write a for loop that counts to five.\n",
    "    # Body of the loop - print the loop iteration number and the word \"Mississippi\".\n",
    "    # Body of the loop - use: time.sleep(1)\n",
    "    \n",
    "for n in range(1,6):\n",
    "    print(n, \"Mississippi\")\n",
    "    n += 1\n",
    "    time.sleep(1)\n",
    "\n",
    "# Write a print function with the final message.\n",
    "print(\"Ready or not, here I come!\")"
   ]
  },
  {
   "cell_type": "code",
   "execution_count": null,
   "metadata": {},
   "outputs": [],
   "source": []
  }
 ],
 "metadata": {
  "language_info": {
   "codemirror_mode": {
    "name": "ipython",
    "version": 3
   },
   "file_extension": ".py",
   "mimetype": "text/x-python",
   "name": "python",
   "nbconvert_exporter": "python",
   "pygments_lexer": "ipython3",
   "version": "3.8.2-final"
  },
  "orig_nbformat": 2,
  "kernelspec": {
   "name": "python38264bit8ef9f516f56245a8ae1ecc18fd1583b7",
   "display_name": "Python 3.8.2 64-bit"
  }
 },
 "nbformat": 4,
 "nbformat_minor": 2
}